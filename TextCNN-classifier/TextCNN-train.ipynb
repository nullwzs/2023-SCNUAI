{
 "cells": [
  {
   "cell_type": "code",
   "execution_count": 1,
   "metadata": {
    "_cell_guid": "b1076dfc-b9ad-4769-8c92-a6c4dae69d19",
    "_uuid": "8f2839f25d086af736a60e9eeb907d3b93b6e0e5",
    "execution": {
     "iopub.execute_input": "2023-05-19T05:26:30.775218Z",
     "iopub.status.busy": "2023-05-19T05:26:30.774919Z",
     "iopub.status.idle": "2023-05-19T05:26:38.054054Z",
     "shell.execute_reply": "2023-05-19T05:26:38.051379Z",
     "shell.execute_reply.started": "2023-05-19T05:26:30.775192Z"
    }
   },
   "outputs": [
    {
     "name": "stdout",
     "output_type": "stream",
     "text": [
      "tensor([1, 2, 3], device='cuda:0')\n"
     ]
    }
   ],
   "source": [
    "TRAIN_SAMPLE_PATH = '/kaggle/input/scnuai-dataset/SCNUAI-dataset-v2/v2/train.txt'\n",
    "DEV_SAMPLE_PATH = '/kaggle/input/scnuai-dataset/SCNUAI-dataset-v2/v2/dev.txt'\n",
    "TEST_SAMPLE_PATH = '/kaggle/input/scnuai-dataset/SCNUAI-dataset-v2/v2/test.txt'\n",
    "\n",
    "LABEL_PATH = '/kaggle/input/scnuai-dataset/SCNUAI-dataset-v2/v2/class.txt'\n",
    "\n",
    "BERT_PAD_ID = 0\n",
    "TEXT_LEN = 512\n",
    "\n",
    "BERT_MODEL = '/kaggle/working/bert-base-chinese'\n",
    "MODEL_DIR = '/kaggle/working/'\n",
    "\n",
    "EMBEDDING_DIM = 768\n",
    "NUM_FILTERS = 512\n",
    "NUM_CLASSES = 34\n",
    "FILTER_SIZES = [2, 3, 4]\n",
    "BATCH_SIZE = 16\n",
    "EPOCH = 100\n",
    "LR = 2e-6\n",
    "\n",
    "CLASS_LABELS = []\n",
    "with open('/kaggle/input/scnuai-dataset/SCNUAI-dataset-v2/v2/class.txt', 'r') as f:\n",
    "    CLASS_LABELS += [line.strip() for line in f.readlines()]\n",
    "\n",
    "import torch\n",
    "\n",
    "DEVICE = 'cuda' if torch.cuda.is_available() else 'cpu'\n",
    "\n",
    "if __name__ == '__main__':\n",
    "    print(torch.tensor([1,2,3]).to(DEVICE))"
   ]
  },
  {
   "cell_type": "code",
   "execution_count": 2,
   "metadata": {
    "execution": {
     "iopub.execute_input": "2023-05-19T05:26:44.984328Z",
     "iopub.status.busy": "2023-05-19T05:26:44.983928Z",
     "iopub.status.idle": "2023-05-19T05:27:03.980332Z",
     "shell.execute_reply": "2023-05-19T05:27:03.979125Z",
     "shell.execute_reply.started": "2023-05-19T05:26:44.984295Z"
    }
   },
   "outputs": [
    {
     "name": "stdout",
     "output_type": "stream",
     "text": [
      "Error: Failed to call git rev-parse --git-dir: exit status 128 \n",
      "Git LFS initialized.\n",
      "Cloning into 'bert-base-chinese'...\n",
      "remote: Enumerating objects: 52, done.\u001b[K\n",
      "remote: Counting objects: 100% (3/3), done.\u001b[K\n",
      "remote: Compressing objects: 100% (3/3), done.\u001b[K\n",
      "remote: Total 52 (delta 0), reused 0 (delta 0), pack-reused 49\u001b[K\n",
      "Unpacking objects: 100% (52/52), 158.38 KiB | 5.87 MiB/s, done.\n",
      "Filtering content: 100% (4/4), 1.59 GiB | 99.67 MiB/s, done.\n"
     ]
    }
   ],
   "source": [
    "!git lfs install\n",
    "!git clone https://huggingface.co/bert-base-chinese"
   ]
  },
  {
   "cell_type": "code",
   "execution_count": 3,
   "metadata": {
    "execution": {
     "iopub.execute_input": "2023-05-19T05:27:18.354197Z",
     "iopub.status.busy": "2023-05-19T05:27:18.353774Z",
     "iopub.status.idle": "2023-05-19T05:27:24.376361Z",
     "shell.execute_reply": "2023-05-19T05:27:24.375351Z",
     "shell.execute_reply.started": "2023-05-19T05:27:18.354156Z"
    }
   },
   "outputs": [
    {
     "name": "stderr",
     "output_type": "stream",
     "text": [
      "/opt/conda/lib/python3.10/site-packages/scipy/__init__.py:146: UserWarning: A NumPy version >=1.16.5 and <1.23.0 is required for this version of SciPy (detected version 1.23.5\n",
      "  warnings.warn(f\"A NumPy version >={np_minversion} and <{np_maxversion}\"\n"
     ]
    },
    {
     "name": "stdout",
     "output_type": "stream",
     "text": [
      "[tensor([[ 101,  122,  119,  ...,    0,    0,    0],\n",
      "        [ 101, 3724, 8038,  ...,  711, 1398, 3333]]), tensor([[1, 1, 1,  ..., 0, 0, 0],\n",
      "        [1, 1, 1,  ..., 1, 1, 1]]), tensor([18, 22])]\n"
     ]
    }
   ],
   "source": [
    "from torch.utils import data\n",
    "import torch\n",
    "from transformers import BertTokenizer\n",
    "from sklearn.metrics import classification_report\n",
    "\n",
    "from transformers import logging\n",
    "logging.set_verbosity_error()\n",
    "\n",
    "class Dataset(data.Dataset):\n",
    "    def __init__(self, type='train'):\n",
    "        super().__init__()\n",
    "        if type == 'train':\n",
    "            sample_path = TRAIN_SAMPLE_PATH\n",
    "        elif type == 'dev':\n",
    "            sample_path = DEV_SAMPLE_PATH\n",
    "        elif type == 'test':\n",
    "            sample_path = TEST_SAMPLE_PATH\n",
    "\n",
    "        self.lines = open(sample_path, encoding='utf-8').readlines()\n",
    "        self.tokenizer = BertTokenizer.from_pretrained(BERT_MODEL)\n",
    "\n",
    "    def __len__(self):\n",
    "        return len(self.lines)\n",
    "\n",
    "    def __getitem__(self, index):\n",
    "        text, label = self.lines[index].split('\\t')\n",
    "        tokened = self.tokenizer(text)\n",
    "        input_ids = tokened['input_ids']\n",
    "        mask = tokened['attention_mask']\n",
    "        if len(input_ids) < TEXT_LEN:\n",
    "            pad_len = (TEXT_LEN - len(input_ids))\n",
    "            input_ids += [BERT_PAD_ID] * pad_len\n",
    "            mask += [0] * pad_len\n",
    "        target = int(label)\n",
    "        return torch.tensor(input_ids[:TEXT_LEN]), torch.tensor(mask[:TEXT_LEN]), torch.tensor(target)\n",
    "\n",
    "\n",
    "def get_label():\n",
    "    text = open(LABEL_PATH, encoding='utf-8').read()\n",
    "    id2label = text.split()\n",
    "    return id2label, {v: k for k, v in enumerate(id2label)}\n",
    "\n",
    "\n",
    "def evaluate(pred, true, target_names=None, output_dict=False):\n",
    "    return classification_report(\n",
    "        true,\n",
    "        pred,\n",
    "        target_names=target_names,\n",
    "        output_dict=output_dict,\n",
    "        zero_division=0,\n",
    "    )\n",
    "\n",
    "if __name__ == '__main__':\n",
    "    dataset = Dataset()\n",
    "    loader = data.DataLoader(dataset, batch_size=2)\n",
    "    print(iter(loader).__next__())"
   ]
  },
  {
   "cell_type": "code",
   "execution_count": 4,
   "metadata": {
    "execution": {
     "iopub.execute_input": "2023-05-19T05:27:46.448338Z",
     "iopub.status.busy": "2023-05-19T05:27:46.447747Z",
     "iopub.status.idle": "2023-05-19T05:27:57.407307Z",
     "shell.execute_reply": "2023-05-19T05:27:57.406260Z",
     "shell.execute_reply.started": "2023-05-19T05:27:46.448306Z"
    }
   },
   "outputs": [
    {
     "name": "stdout",
     "output_type": "stream",
     "text": [
      "torch.Size([2, 34])\n"
     ]
    }
   ],
   "source": [
    "import torch.nn as nn\n",
    "import torch.nn.functional as F\n",
    "import torch\n",
    "from transformers import BertModel\n",
    "\n",
    "class TextCNN(nn.Module):\n",
    "    def __init__(self):\n",
    "        super().__init__()\n",
    "        self.bert = BertModel.from_pretrained(BERT_MODEL)\n",
    "        for name ,param in self.bert.named_parameters():\n",
    "            param.requires_grad = False\n",
    "        self.convs = nn.ModuleList([nn.Conv2d(1, NUM_FILTERS, (i, EMBEDDING_DIM)) for i in FILTER_SIZES])\n",
    "        self.linear = nn.Linear(NUM_FILTERS * 3, NUM_CLASSES)\n",
    "\n",
    "    def conv_and_pool(self, conv, input):\n",
    "        out = conv(input)\n",
    "        out = F.relu(out)\n",
    "        return F.max_pool2d(out, (out.shape[2], out.shape[3])).squeeze()\n",
    "\n",
    "    def forward(self, input, mask):\n",
    "        out = self.bert(input, mask)[0].unsqueeze(1)\n",
    "        out = torch.cat([self.conv_and_pool(conv, out) for conv in self.convs], dim=1)\n",
    "        return self.linear(out)\n",
    "\n",
    "\n",
    "if __name__ == '__main__':\n",
    "    model = TextCNN()\n",
    "    input = torch.randint(0, 3000, (2, TEXT_LEN))\n",
    "    mask = torch.ones_like(input)\n",
    "    print(model(input, mask).shape)\n"
   ]
  },
  {
   "cell_type": "code",
   "execution_count": null,
   "metadata": {
    "execution": {
     "iopub.execute_input": "2023-05-19T05:28:11.896289Z",
     "iopub.status.busy": "2023-05-19T05:28:11.895816Z"
    }
   },
   "outputs": [
    {
     "name": "stdout",
     "output_type": "stream",
     "text": [
      ">> epoch: 0 batch: 0 loss: 0.04633 train_acc: 1.0 dev_acc: 0.75\n"
     ]
    }
   ],
   "source": [
    "# train.py\n",
    "if __name__ == '__main__':\n",
    "    id2label, _ = get_label()\n",
    "\n",
    "    train_dataset = Dataset('train')\n",
    "    train_loader = data.DataLoader(train_dataset, batch_size=BATCH_SIZE, shuffle=True)\n",
    "\n",
    "    dev_dataset = Dataset('dev')\n",
    "    dev_loader = data.DataLoader(dev_dataset, batch_size=BATCH_SIZE, shuffle=True)\n",
    "\n",
    "#     model = TextCNN().to(DEVICE)\n",
    "    model = torch.load('/kaggle/input/scnuai-models/v3-26.pth').to(DEVICE)\n",
    "    optimizer = torch.optim.Adam(model.parameters(), lr=LR)\n",
    "    loss_fn = nn.CrossEntropyLoss()\n",
    "\n",
    "    for e in range(EPOCH):\n",
    "        for b, (input, mask, target) in enumerate(train_loader):\n",
    "            input = input.to(DEVICE)\n",
    "            mask = mask.to(DEVICE)\n",
    "            target = target.to(DEVICE)\n",
    "\n",
    "            pred = model(input, mask)\n",
    "            loss = loss_fn(pred, target)\n",
    "\n",
    "            optimizer.zero_grad()\n",
    "            loss.backward()\n",
    "            optimizer.step()\n",
    "\n",
    "            if b % 50 != 0:\n",
    "                continue\n",
    "\n",
    "            y_pred = torch.argmax(pred, dim=1)\n",
    "            report = evaluate(y_pred.cpu().data.numpy(), target.cpu().data.numpy(), output_dict=True)\n",
    "\n",
    "            with torch.no_grad():\n",
    "                dev_input, dev_mask, dev_target = iter(dev_loader).__next__()\n",
    "                dev_input = dev_input.to(DEVICE)\n",
    "                dev_mask = dev_mask.to(DEVICE)\n",
    "                dev_target = dev_target.to(DEVICE)\n",
    "                dev_pred = model(dev_input, dev_mask)\n",
    "                dev_pred_ = torch.argmax(dev_pred, dim=1)\n",
    "                dev_report = evaluate(dev_pred_.cpu().data.numpy(), dev_target.cpu().data.numpy(), output_dict=True)\n",
    "\n",
    "            print(\n",
    "                '>> epoch:', e,\n",
    "                'batch:', b,\n",
    "                'loss:', round(loss.item(), 5),\n",
    "                'train_acc:', report['accuracy'],\n",
    "                'dev_acc:', dev_report['accuracy'],\n",
    "            )\n",
    "        if e % 1 == 0:\n",
    "            torch.save(model, MODEL_DIR + f'{e}.pth')"
   ]
  },
  {
   "cell_type": "code",
   "execution_count": null,
   "metadata": {},
   "outputs": [],
   "source": []
  },
  {
   "cell_type": "code",
   "execution_count": null,
   "metadata": {},
   "outputs": [],
   "source": []
  }
 ],
 "metadata": {
  "kernelspec": {
   "display_name": "Python 3 (ipykernel)",
   "language": "python",
   "name": "python3"
  },
  "language_info": {
   "codemirror_mode": {
    "name": "ipython",
    "version": 3
   },
   "file_extension": ".py",
   "mimetype": "text/x-python",
   "name": "python",
   "nbconvert_exporter": "python",
   "pygments_lexer": "ipython3",
   "version": "3.9.7"
  },
  "toc": {
   "base_numbering": 1,
   "nav_menu": {},
   "number_sections": true,
   "sideBar": true,
   "skip_h1_title": false,
   "title_cell": "Table of Contents",
   "title_sidebar": "Contents",
   "toc_cell": false,
   "toc_position": {},
   "toc_section_display": true,
   "toc_window_display": false
  },
  "varInspector": {
   "cols": {
    "lenName": 16,
    "lenType": 16,
    "lenVar": 40
   },
   "kernels_config": {
    "python": {
     "delete_cmd_postfix": "",
     "delete_cmd_prefix": "del ",
     "library": "var_list.py",
     "varRefreshCmd": "print(var_dic_list())"
    },
    "r": {
     "delete_cmd_postfix": ") ",
     "delete_cmd_prefix": "rm(",
     "library": "var_list.r",
     "varRefreshCmd": "cat(var_dic_list()) "
    }
   },
   "types_to_exclude": [
    "module",
    "function",
    "builtin_function_or_method",
    "instance",
    "_Feature"
   ],
   "window_display": false
  }
 },
 "nbformat": 4,
 "nbformat_minor": 4
}
