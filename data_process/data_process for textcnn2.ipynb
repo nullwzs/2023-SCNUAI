{
 "cells": [
  {
   "cell_type": "code",
   "execution_count": 96,
   "id": "69f60053",
   "metadata": {
    "ExecuteTime": {
     "end_time": "2023-05-18T09:39:23.083618Z",
     "start_time": "2023-05-18T09:39:23.069619Z"
    }
   },
   "outputs": [],
   "source": [
    "import pandas as pd\n",
    "import numpy as np\n",
    "import os\n",
    "import json"
   ]
  },
  {
   "cell_type": "code",
   "execution_count": 97,
   "id": "1df7edf0",
   "metadata": {
    "ExecuteTime": {
     "end_time": "2023-05-18T09:39:23.749824Z",
     "start_time": "2023-05-18T09:39:23.605123Z"
    }
   },
   "outputs": [],
   "source": [
    "# config\n",
    "TRAIN_DIR = './wenshu_ms_dataset/train/'\n",
    "TEST_DIR = './wenshu_ms_dataset/test/'\n",
    "DEV_DIR = './wenshu_ms_dataset/dev/'\n",
    "RESULT_DIR = './result/'\n",
    "\n",
    "TRAIN_FILES = sorted(os.listdir(TRAIN_DIR), key=lambda x:int(x[:-5]))\n",
    "TEST_FILES = sorted(os.listdir(TEST_DIR), key=lambda x:int(x[:-5]))\n",
    "DEV_FILES = sorted(os.listdir(DEV_DIR), key=lambda x:int(x[:-5]))\n"
   ]
  },
  {
   "cell_type": "code",
   "execution_count": 5,
   "id": "8138b40b",
   "metadata": {
    "ExecuteTime": {
     "end_time": "2023-05-17T05:37:45.850161Z",
     "start_time": "2023-05-17T05:37:34.803069Z"
    }
   },
   "outputs": [
    {
     "data": {
      "text/html": [
       "<div>\n",
       "<style scoped>\n",
       "    .dataframe tbody tr th:only-of-type {\n",
       "        vertical-align: middle;\n",
       "    }\n",
       "\n",
       "    .dataframe tbody tr th {\n",
       "        vertical-align: top;\n",
       "    }\n",
       "\n",
       "    .dataframe thead th {\n",
       "        text-align: right;\n",
       "    }\n",
       "</style>\n",
       "<table border=\"1\" class=\"dataframe\">\n",
       "  <thead>\n",
       "    <tr style=\"text-align: right;\">\n",
       "      <th></th>\n",
       "      <th>JudgeAccusation</th>\n",
       "      <th>cat_1</th>\n",
       "      <th>cat_2</th>\n",
       "    </tr>\n",
       "  </thead>\n",
       "  <tbody>\n",
       "    <tr>\n",
       "      <th>0</th>\n",
       "      <td>1.依法解除原被告之间的婚姻关系。2.婚生的长子闫某某，次子闫某某由被告抚养，原告承担抚养费...</td>\n",
       "      <td>婚姻家庭</td>\n",
       "      <td>结婚离婚</td>\n",
       "    </tr>\n",
       "    <tr>\n",
       "      <th>1</th>\n",
       "      <td>求：1.判令被告立即支付拖欠工程款4万元及利息（利息以4万元为基数，自2018年4月9日起至...</td>\n",
       "      <td>建筑工程</td>\n",
       "      <td>建设工程施工</td>\n",
       "    </tr>\n",
       "    <tr>\n",
       "      <th>2</th>\n",
       "      <td>公司向本院提出诉讼请求：1.判令张玲娣偿还借款人民币111000元及利息（以111000元为...</td>\n",
       "      <td>合同事务</td>\n",
       "      <td>借款合同</td>\n",
       "    </tr>\n",
       "    <tr>\n",
       "      <th>3</th>\n",
       "      <td>限公司起诉至本院请求判令：一、被告向原告支付所欠货款127290元；二、被告向原告支付违约金...</td>\n",
       "      <td>合同事务</td>\n",
       "      <td>承揽合同</td>\n",
       "    </tr>\n",
       "    <tr>\n",
       "      <th>4</th>\n",
       "      <td>杨运钿2017年12月27日订立《股权代持协议》，主要约定原告自愿委托该被告作为自身持有的福...</td>\n",
       "      <td>公司事务</td>\n",
       "      <td>公司治理</td>\n",
       "    </tr>\n",
       "    <tr>\n",
       "      <th>...</th>\n",
       "      <td>...</td>\n",
       "      <td>...</td>\n",
       "      <td>...</td>\n",
       "    </tr>\n",
       "    <tr>\n",
       "      <th>431113</th>\n",
       "      <td>讼请求：1.解除原被告于2011年3月31日签订的《房屋转让合同》；2.被告向原告退还7万元...</td>\n",
       "      <td>房地产纠纷</td>\n",
       "      <td>房屋买卖</td>\n",
       "    </tr>\n",
       "    <tr>\n",
       "      <th>431114</th>\n",
       "      <td>诉讼请求：1.判令被告立即给付原告工资款12020元；2.本案诉讼费用全部由被告承担。事实与...</td>\n",
       "      <td>劳动人事</td>\n",
       "      <td>工资福利</td>\n",
       "    </tr>\n",
       "    <tr>\n",
       "      <th>431115</th>\n",
       "      <td>市公共巴士有限公司向本院提出诉讼请求：1、请求判决被告支付原告为第三人垫付的交通事故住院医疗...</td>\n",
       "      <td>交通事故</td>\n",
       "      <td>交通责任</td>\n",
       "    </tr>\n",
       "    <tr>\n",
       "      <th>431116</th>\n",
       "      <td>求：1.判令被告给付2013年3月1日至2015年2月28日期间的物业费1464.48元及违...</td>\n",
       "      <td>房地产纠纷</td>\n",
       "      <td>物业纠纷</td>\n",
       "    </tr>\n",
       "    <tr>\n",
       "      <th>431117</th>\n",
       "      <td>求：1、依法判令被告支付原告丧葬费、死亡赔偿金、精神损害抚慰金等各种费用合计242519.6...</td>\n",
       "      <td>交通事故</td>\n",
       "      <td>交通责任</td>\n",
       "    </tr>\n",
       "  </tbody>\n",
       "</table>\n",
       "<p>431118 rows × 3 columns</p>\n",
       "</div>"
      ],
      "text/plain": [
       "                                          JudgeAccusation  cat_1   cat_2\n",
       "0       1.依法解除原被告之间的婚姻关系。2.婚生的长子闫某某，次子闫某某由被告抚养，原告承担抚养费...   婚姻家庭    结婚离婚\n",
       "1       求：1.判令被告立即支付拖欠工程款4万元及利息（利息以4万元为基数，自2018年4月9日起至...   建筑工程  建设工程施工\n",
       "2       公司向本院提出诉讼请求：1.判令张玲娣偿还借款人民币111000元及利息（以111000元为...   合同事务    借款合同\n",
       "3       限公司起诉至本院请求判令：一、被告向原告支付所欠货款127290元；二、被告向原告支付违约金...   合同事务    承揽合同\n",
       "4       杨运钿2017年12月27日订立《股权代持协议》，主要约定原告自愿委托该被告作为自身持有的福...   公司事务    公司治理\n",
       "...                                                   ...    ...     ...\n",
       "431113  讼请求：1.解除原被告于2011年3月31日签订的《房屋转让合同》；2.被告向原告退还7万元...  房地产纠纷    房屋买卖\n",
       "431114  诉讼请求：1.判令被告立即给付原告工资款12020元；2.本案诉讼费用全部由被告承担。事实与...   劳动人事    工资福利\n",
       "431115  市公共巴士有限公司向本院提出诉讼请求：1、请求判决被告支付原告为第三人垫付的交通事故住院医疗...   交通事故    交通责任\n",
       "431116  求：1.判令被告给付2013年3月1日至2015年2月28日期间的物业费1464.48元及违...  房地产纠纷    物业纠纷\n",
       "431117  求：1、依法判令被告支付原告丧葬费、死亡赔偿金、精神损害抚慰金等各种费用合计242519.6...   交通事故    交通责任\n",
       "\n",
       "[431118 rows x 3 columns]"
      ]
     },
     "execution_count": 5,
     "metadata": {},
     "output_type": "execute_result"
    }
   ],
   "source": [
    "df_ori = pd.read_csv(RESULT_DIR + 'v1/data_ori2.csv')\n",
    "df_ori"
   ]
  },
  {
   "cell_type": "code",
   "execution_count": 7,
   "id": "7da22eba",
   "metadata": {
    "ExecuteTime": {
     "end_time": "2023-05-17T05:39:02.536585Z",
     "start_time": "2023-05-17T05:39:02.520614Z"
    }
   },
   "outputs": [],
   "source": [
    "import copy \n",
    "df = copy.deepcopy(df_ori)"
   ]
  },
  {
   "cell_type": "code",
   "execution_count": 8,
   "id": "75e8938b",
   "metadata": {
    "ExecuteTime": {
     "end_time": "2023-05-17T05:39:08.669698Z",
     "start_time": "2023-05-17T05:39:03.149533Z"
    },
    "scrolled": false
   },
   "outputs": [
    {
     "data": {
      "text/plain": [
       "{0: '交通事故->交通责任',\n",
       " 1: '公司事务->企业经营',\n",
       " 2: '公司事务->公司治理',\n",
       " 3: '公司事务->合伙企业',\n",
       " 4: '劳动人事->劳动争议',\n",
       " 5: '劳动人事->劳动合同',\n",
       " 6: '劳动人事->工资福利',\n",
       " 7: '合同事务->买卖合同',\n",
       " 8: '合同事务->借款合同',\n",
       " 9: '合同事务->合同纠纷',\n",
       " 10: '合同事务->委托合同',\n",
       " 11: '合同事务->承揽合同',\n",
       " 12: '合同事务->抵押担保',\n",
       " 13: '合同事务->服务合同',\n",
       " 14: '合同事务->租赁合同',\n",
       " 15: '合同事务->融资租赁',\n",
       " 16: '合同事务->运输合同',\n",
       " 17: '婚姻家庭->孩子抚养',\n",
       " 18: '婚姻家庭->结婚离婚',\n",
       " 19: '婚姻家庭->老人赡养',\n",
       " 20: '婚姻家庭->财产分割',\n",
       " 21: '婚姻家庭->遗产继承',\n",
       " 22: '建筑工程->建设工程施工',\n",
       " 23: '房地产纠纷->土地纠纷',\n",
       " 24: '房地产纠纷->房产纠纷',\n",
       " 25: '房地产纠纷->房屋买卖',\n",
       " 26: '房地产纠纷->物业纠纷',\n",
       " 27: '民事纠纷->产品责任',\n",
       " 28: '民事纠纷->人格隐私',\n",
       " 29: '民事纠纷->人身侵权',\n",
       " 30: '民事纠纷->侵权纠纷',\n",
       " 31: '民事纠纷->物权纠纷',\n",
       " 32: '知识产权->版权软著',\n",
       " 33: '金融证券保险->保险纠纷'}"
      ]
     },
     "execution_count": 8,
     "metadata": {},
     "output_type": "execute_result"
    }
   ],
   "source": [
    "dict(enumerate(np.unique(df.apply(lambda x:x['cat_1']+'->'+x['cat_2'], axis=1))))"
   ]
  },
  {
   "cell_type": "code",
   "execution_count": 9,
   "id": "7b767c9b",
   "metadata": {
    "ExecuteTime": {
     "end_time": "2023-05-17T05:39:16.159888Z",
     "start_time": "2023-05-17T05:39:15.991508Z"
    }
   },
   "outputs": [
    {
     "data": {
      "text/plain": [
       "array(['交通事故', '公司事务', '劳动人事', '合同事务', '婚姻家庭', '建筑工程', '房地产纠纷', '民事纠纷',\n",
       "       '知识产权', '金融证券保险'], dtype=object)"
      ]
     },
     "execution_count": 9,
     "metadata": {},
     "output_type": "execute_result"
    }
   ],
   "source": [
    "np.unique(df['cat_1'])"
   ]
  },
  {
   "cell_type": "code",
   "execution_count": 10,
   "id": "f80b4bf6",
   "metadata": {
    "ExecuteTime": {
     "end_time": "2023-05-17T05:39:18.281737Z",
     "start_time": "2023-05-17T05:39:18.265753Z"
    }
   },
   "outputs": [],
   "source": [
    "df_group = df_ori.groupby('cat_1')"
   ]
  },
  {
   "cell_type": "code",
   "execution_count": null,
   "id": "b7fe90b3",
   "metadata": {},
   "outputs": [],
   "source": []
  },
  {
   "cell_type": "markdown",
   "id": "a7fd977b",
   "metadata": {},
   "source": [
    "# 公司事务"
   ]
  },
  {
   "cell_type": "code",
   "execution_count": 11,
   "id": "da36642f",
   "metadata": {
    "ExecuteTime": {
     "end_time": "2023-05-17T05:42:20.217561Z",
     "start_time": "2023-05-17T05:42:20.145160Z"
    }
   },
   "outputs": [
    {
     "data": {
      "text/html": [
       "<div>\n",
       "<style scoped>\n",
       "    .dataframe tbody tr th:only-of-type {\n",
       "        vertical-align: middle;\n",
       "    }\n",
       "\n",
       "    .dataframe tbody tr th {\n",
       "        vertical-align: top;\n",
       "    }\n",
       "\n",
       "    .dataframe thead th {\n",
       "        text-align: right;\n",
       "    }\n",
       "</style>\n",
       "<table border=\"1\" class=\"dataframe\">\n",
       "  <thead>\n",
       "    <tr style=\"text-align: right;\">\n",
       "      <th></th>\n",
       "      <th>JudgeAccusation</th>\n",
       "      <th>cat_1</th>\n",
       "      <th>cat_2</th>\n",
       "    </tr>\n",
       "  </thead>\n",
       "  <tbody>\n",
       "    <tr>\n",
       "      <th>4</th>\n",
       "      <td>杨运钿2017年12月27日订立《股权代持协议》，主要约定原告自愿委托该被告作为自身持有的福...</td>\n",
       "      <td>公司事务</td>\n",
       "      <td>公司治理</td>\n",
       "    </tr>\n",
       "    <tr>\n",
       "      <th>28</th>\n",
       "      <td>、赵秀梅的住所地为乌鲁木齐市水磨沟区。原告向本院提交《股权转让合同》一份，载明股权出让方（甲...</td>\n",
       "      <td>公司事务</td>\n",
       "      <td>公司治理</td>\n",
       "    </tr>\n",
       "    <tr>\n",
       "      <th>32</th>\n",
       "      <td>中的户籍所在地为新疆哈密市。原告向本院提交《股权转让合同》一份，载明股权出让方（甲方）陈焕中...</td>\n",
       "      <td>公司事务</td>\n",
       "      <td>公司治理</td>\n",
       "    </tr>\n",
       "    <tr>\n",
       "      <th>33</th>\n",
       "      <td>求：1、判决被告按照退股协议的约定退还原告股金126000元；2、本案的诉讼费由被告承担。事...</td>\n",
       "      <td>公司事务</td>\n",
       "      <td>合伙企业</td>\n",
       "    </tr>\n",
       "    <tr>\n",
       "      <th>37</th>\n",
       "      <td>被告双方于2015年5月30日签订《转让协议》，根据协议，被告向原告转让上海华蒙加欧教育艺术...</td>\n",
       "      <td>公司事务</td>\n",
       "      <td>公司治理</td>\n",
       "    </tr>\n",
       "    <tr>\n",
       "      <th>...</th>\n",
       "      <td>...</td>\n",
       "      <td>...</td>\n",
       "      <td>...</td>\n",
       "    </tr>\n",
       "    <tr>\n",
       "      <th>430897</th>\n",
       "      <td>2016年8月18日签订货物联营协议，约定被告将车辆号牌辽Ａ号重型自卸货车车产籍落在原告处，...</td>\n",
       "      <td>公司事务</td>\n",
       "      <td>企业经营</td>\n",
       "    </tr>\n",
       "    <tr>\n",
       "      <th>430946</th>\n",
       "      <td>出诉讼请求：1.判令解除原、被告双方皖Ｎ车车辆挂靠经营关系，注销该车行驶证、号牌、登记证书及...</td>\n",
       "      <td>公司事务</td>\n",
       "      <td>企业经营</td>\n",
       "    </tr>\n",
       "    <tr>\n",
       "      <th>430971</th>\n",
       "      <td>诉讼请求：1.请求判令被告支付原告合伙工程款45200元及利息（以45200元为基数，从20...</td>\n",
       "      <td>公司事务</td>\n",
       "      <td>合伙企业</td>\n",
       "    </tr>\n",
       "    <tr>\n",
       "      <th>431024</th>\n",
       "      <td>被告系车辆挂靠关系，2013年11月份原告购买了一辆轻型封闭货车（车牌号：辽Ａ），在同年11...</td>\n",
       "      <td>公司事务</td>\n",
       "      <td>企业经营</td>\n",
       "    </tr>\n",
       "    <tr>\n",
       "      <th>431079</th>\n",
       "      <td>015年被告美家居公司登记成立，原告入股并缴纳了入股金。2017年7月，原告与被告美家居公司...</td>\n",
       "      <td>公司事务</td>\n",
       "      <td>公司治理</td>\n",
       "    </tr>\n",
       "  </tbody>\n",
       "</table>\n",
       "<p>12590 rows × 3 columns</p>\n",
       "</div>"
      ],
      "text/plain": [
       "                                          JudgeAccusation cat_1 cat_2\n",
       "4       杨运钿2017年12月27日订立《股权代持协议》，主要约定原告自愿委托该被告作为自身持有的福...  公司事务  公司治理\n",
       "28      、赵秀梅的住所地为乌鲁木齐市水磨沟区。原告向本院提交《股权转让合同》一份，载明股权出让方（甲...  公司事务  公司治理\n",
       "32      中的户籍所在地为新疆哈密市。原告向本院提交《股权转让合同》一份，载明股权出让方（甲方）陈焕中...  公司事务  公司治理\n",
       "33      求：1、判决被告按照退股协议的约定退还原告股金126000元；2、本案的诉讼费由被告承担。事...  公司事务  合伙企业\n",
       "37      被告双方于2015年5月30日签订《转让协议》，根据协议，被告向原告转让上海华蒙加欧教育艺术...  公司事务  公司治理\n",
       "...                                                   ...   ...   ...\n",
       "430897  2016年8月18日签订货物联营协议，约定被告将车辆号牌辽Ａ号重型自卸货车车产籍落在原告处，...  公司事务  企业经营\n",
       "430946  出诉讼请求：1.判令解除原、被告双方皖Ｎ车车辆挂靠经营关系，注销该车行驶证、号牌、登记证书及...  公司事务  企业经营\n",
       "430971  诉讼请求：1.请求判令被告支付原告合伙工程款45200元及利息（以45200元为基数，从20...  公司事务  合伙企业\n",
       "431024  被告系车辆挂靠关系，2013年11月份原告购买了一辆轻型封闭货车（车牌号：辽Ａ），在同年11...  公司事务  企业经营\n",
       "431079  015年被告美家居公司登记成立，原告入股并缴纳了入股金。2017年7月，原告与被告美家居公司...  公司事务  公司治理\n",
       "\n",
       "[12590 rows x 3 columns]"
      ]
     },
     "execution_count": 11,
     "metadata": {},
     "output_type": "execute_result"
    }
   ],
   "source": [
    "df1 = df_group.get_group('公司事务')\n",
    "df1"
   ]
  },
  {
   "cell_type": "code",
   "execution_count": 12,
   "id": "9ec03861",
   "metadata": {
    "ExecuteTime": {
     "end_time": "2023-05-17T05:42:24.582413Z",
     "start_time": "2023-05-17T05:42:24.550565Z"
    }
   },
   "outputs": [
    {
     "data": {
      "text/plain": [
       "{'企业经营': 0, '公司治理': 1, '合伙企业': 2}"
      ]
     },
     "execution_count": 12,
     "metadata": {},
     "output_type": "execute_result"
    }
   ],
   "source": [
    "label2id_1 = {v:k for k, v in dict(enumerate(np.unique(df1['cat_2']))).items()}\n",
    "label2id_1"
   ]
  },
  {
   "cell_type": "code",
   "execution_count": 13,
   "id": "b9a74f11",
   "metadata": {
    "ExecuteTime": {
     "end_time": "2023-05-17T05:42:34.203352Z",
     "start_time": "2023-05-17T05:42:34.179353Z"
    }
   },
   "outputs": [],
   "source": [
    "# total\n",
    "df1_total = pd.DataFrame(zip(df1.iloc[:, 0], df1.iloc[:, 2].apply(lambda x:label2id_1[x])))\n",
    "df1_total\n",
    "# train:test:dev = 6:2:2\n",
    "len_ = df1_total.shape[0]\n",
    "df1_train = df1_total.iloc[:int(len_*0.6)]\n",
    "df1_test = df1_total.iloc[int(len_*0.6):int(len_*0.8)]\n",
    "df1_dev = df1_total.iloc[int(len_*0.8):]"
   ]
  },
  {
   "cell_type": "code",
   "execution_count": 31,
   "id": "eee05941",
   "metadata": {
    "ExecuteTime": {
     "end_time": "2023-05-13T14:52:15.320513Z",
     "start_time": "2023-05-13T14:52:14.942726Z"
    }
   },
   "outputs": [],
   "source": [
    "df1_total.to_csv(RESULT_DIR+'/group1/total.txt', sep='\\t', index=None, header=None)\n",
    "df1_train.to_csv(RESULT_DIR+'/group1/train.txt', sep='\\t', index=None, header=None)\n",
    "df1_test.to_csv(RESULT_DIR+'/group1/test.txt', sep='\\t', index=None, header=None)\n",
    "df1_dev.to_csv(RESULT_DIR+'/group1/dev.txt', sep='\\t', index=None, header=None)"
   ]
  },
  {
   "cell_type": "markdown",
   "id": "352b0b63",
   "metadata": {},
   "source": [
    "# 劳动人事"
   ]
  },
  {
   "cell_type": "code",
   "execution_count": 14,
   "id": "7a77eb36",
   "metadata": {
    "ExecuteTime": {
     "end_time": "2023-05-17T05:42:54.956893Z",
     "start_time": "2023-05-17T05:42:54.932625Z"
    },
    "scrolled": false
   },
   "outputs": [
    {
     "data": {
      "text/html": [
       "<div>\n",
       "<style scoped>\n",
       "    .dataframe tbody tr th:only-of-type {\n",
       "        vertical-align: middle;\n",
       "    }\n",
       "\n",
       "    .dataframe tbody tr th {\n",
       "        vertical-align: top;\n",
       "    }\n",
       "\n",
       "    .dataframe thead th {\n",
       "        text-align: right;\n",
       "    }\n",
       "</style>\n",
       "<table border=\"1\" class=\"dataframe\">\n",
       "  <thead>\n",
       "    <tr style=\"text-align: right;\">\n",
       "      <th></th>\n",
       "      <th>JudgeAccusation</th>\n",
       "      <th>cat_1</th>\n",
       "      <th>cat_2</th>\n",
       "    </tr>\n",
       "  </thead>\n",
       "  <tbody>\n",
       "    <tr>\n",
       "      <th>13</th>\n",
       "      <td>诉讼请求：请求确认原告从2010年4月8日起与被告存在事实劳动关系。庭审中，原告陈常学当庭变...</td>\n",
       "      <td>劳动人事</td>\n",
       "      <td>劳动合同</td>\n",
       "    </tr>\n",
       "    <tr>\n",
       "      <th>16</th>\n",
       "      <td>诉讼请求：确认原告与被告在2009年5月4日至2015年7月10日期间存在劳动关系。事实和理...</td>\n",
       "      <td>劳动人事</td>\n",
       "      <td>劳动合同</td>\n",
       "    </tr>\n",
       "    <tr>\n",
       "      <th>17</th>\n",
       "      <td>年，原告在被告石先利经营的砖窑厂务工，所做工作为出砖。经结算，原告应得工资款4812元。20...</td>\n",
       "      <td>劳动人事</td>\n",
       "      <td>工资福利</td>\n",
       "    </tr>\n",
       "    <tr>\n",
       "      <th>27</th>\n",
       "      <td>诉讼请求：1、被告支付原告2016年春节过节费300元、国庆节过节费300元，2017年春节...</td>\n",
       "      <td>劳动人事</td>\n",
       "      <td>劳动争议</td>\n",
       "    </tr>\n",
       "    <tr>\n",
       "      <th>107</th>\n",
       "      <td>请求：1.请求依法判令被告支付原告工伤保险待遇费用，医疗费19767.9元，住院伙食补助86...</td>\n",
       "      <td>劳动人事</td>\n",
       "      <td>劳动争议</td>\n",
       "    </tr>\n",
       "    <tr>\n",
       "      <th>...</th>\n",
       "      <td>...</td>\n",
       "      <td>...</td>\n",
       "      <td>...</td>\n",
       "    </tr>\n",
       "    <tr>\n",
       "      <th>431026</th>\n",
       "      <td>于2018年8月进入被告处工作，离职前月工资分别为18000元、7200元、8000元、60...</td>\n",
       "      <td>劳动人事</td>\n",
       "      <td>劳动争议</td>\n",
       "    </tr>\n",
       "    <tr>\n",
       "      <th>431068</th>\n",
       "      <td>13年6月，被告承建凉城县工商银行职工之家，贺小刚、陶志宏、杨映科、文忠虎为该工程的具体施工...</td>\n",
       "      <td>劳动人事</td>\n",
       "      <td>工资福利</td>\n",
       "    </tr>\n",
       "    <tr>\n",
       "      <th>431097</th>\n",
       "      <td>请求：1、依法判令被告向原告支付工资4116元；2、本案诉讼费由被告承担。事实和理由：原告经...</td>\n",
       "      <td>劳动人事</td>\n",
       "      <td>工资福利</td>\n",
       "    </tr>\n",
       "    <tr>\n",
       "      <th>431099</th>\n",
       "      <td>013年7月2日，其与潘文珍的妹妹潘文琴签订劳动合同，但潘文珍擅自顶替妹妹上班。后因不熟练操...</td>\n",
       "      <td>劳动人事</td>\n",
       "      <td>劳动合同</td>\n",
       "    </tr>\n",
       "    <tr>\n",
       "      <th>431114</th>\n",
       "      <td>诉讼请求：1.判令被告立即给付原告工资款12020元；2.本案诉讼费用全部由被告承担。事实与...</td>\n",
       "      <td>劳动人事</td>\n",
       "      <td>工资福利</td>\n",
       "    </tr>\n",
       "  </tbody>\n",
       "</table>\n",
       "<p>23573 rows × 3 columns</p>\n",
       "</div>"
      ],
      "text/plain": [
       "                                          JudgeAccusation cat_1 cat_2\n",
       "13      诉讼请求：请求确认原告从2010年4月8日起与被告存在事实劳动关系。庭审中，原告陈常学当庭变...  劳动人事  劳动合同\n",
       "16      诉讼请求：确认原告与被告在2009年5月4日至2015年7月10日期间存在劳动关系。事实和理...  劳动人事  劳动合同\n",
       "17      年，原告在被告石先利经营的砖窑厂务工，所做工作为出砖。经结算，原告应得工资款4812元。20...  劳动人事  工资福利\n",
       "27      诉讼请求：1、被告支付原告2016年春节过节费300元、国庆节过节费300元，2017年春节...  劳动人事  劳动争议\n",
       "107     请求：1.请求依法判令被告支付原告工伤保险待遇费用，医疗费19767.9元，住院伙食补助86...  劳动人事  劳动争议\n",
       "...                                                   ...   ...   ...\n",
       "431026  于2018年8月进入被告处工作，离职前月工资分别为18000元、7200元、8000元、60...  劳动人事  劳动争议\n",
       "431068  13年6月，被告承建凉城县工商银行职工之家，贺小刚、陶志宏、杨映科、文忠虎为该工程的具体施工...  劳动人事  工资福利\n",
       "431097  请求：1、依法判令被告向原告支付工资4116元；2、本案诉讼费由被告承担。事实和理由：原告经...  劳动人事  工资福利\n",
       "431099  013年7月2日，其与潘文珍的妹妹潘文琴签订劳动合同，但潘文珍擅自顶替妹妹上班。后因不熟练操...  劳动人事  劳动合同\n",
       "431114  诉讼请求：1.判令被告立即给付原告工资款12020元；2.本案诉讼费用全部由被告承担。事实与...  劳动人事  工资福利\n",
       "\n",
       "[23573 rows x 3 columns]"
      ]
     },
     "execution_count": 14,
     "metadata": {},
     "output_type": "execute_result"
    }
   ],
   "source": [
    "df2 = df_group.get_group('劳动人事')\n",
    "df2"
   ]
  },
  {
   "cell_type": "code",
   "execution_count": 15,
   "id": "6b89686b",
   "metadata": {
    "ExecuteTime": {
     "end_time": "2023-05-17T05:43:01.601634Z",
     "start_time": "2023-05-17T05:43:01.577621Z"
    }
   },
   "outputs": [
    {
     "data": {
      "text/plain": [
       "{'劳动争议': 0, '劳动合同': 1, '工资福利': 2}"
      ]
     },
     "execution_count": 15,
     "metadata": {},
     "output_type": "execute_result"
    }
   ],
   "source": [
    "label2id_2 = {v:k for k, v in dict(enumerate(np.unique(df2['cat_2']))).items()}\n",
    "label2id_2"
   ]
  },
  {
   "cell_type": "code",
   "execution_count": 16,
   "id": "0016420a",
   "metadata": {
    "ExecuteTime": {
     "end_time": "2023-05-17T05:43:04.354712Z",
     "start_time": "2023-05-17T05:43:04.313351Z"
    }
   },
   "outputs": [],
   "source": [
    "# total\n",
    "df2_total = pd.DataFrame(zip(df2.iloc[:, 0], df2.iloc[:, 2].apply(lambda x:label2id_2[x])))\n",
    "df2_total\n",
    "# train:test:dev = 6:2:2\n",
    "len_ = df2_total.shape[0]\n",
    "df2_train = df2_total.iloc[:int(len_*0.6)]\n",
    "df2_test = df2_total.iloc[int(len_*0.6):int(len_*0.8)]\n",
    "df2_dev = df2_total.iloc[int(len_*0.8):]"
   ]
  },
  {
   "cell_type": "code",
   "execution_count": 35,
   "id": "2861995f",
   "metadata": {
    "ExecuteTime": {
     "end_time": "2023-05-13T14:56:58.479633Z",
     "start_time": "2023-05-13T14:56:57.973912Z"
    }
   },
   "outputs": [],
   "source": [
    "df2_total.to_csv(RESULT_DIR+'/group2/total.txt', sep='\\t', index=None, header=None)\n",
    "df2_train.to_csv(RESULT_DIR+'/group2/train.txt', sep='\\t', index=None, header=None)\n",
    "df2_test.to_csv(RESULT_DIR+'/group2/test.txt', sep='\\t', index=None, header=None)\n",
    "df2_dev.to_csv(RESULT_DIR+'/group2/dev.txt', sep='\\t', index=None, header=None)"
   ]
  },
  {
   "cell_type": "markdown",
   "id": "d1c9f5f1",
   "metadata": {},
   "source": [
    "## v2"
   ]
  },
  {
   "cell_type": "code",
   "execution_count": 88,
   "id": "f8abaca1",
   "metadata": {
    "ExecuteTime": {
     "end_time": "2023-05-17T08:54:55.998521Z",
     "start_time": "2023-05-17T08:54:55.835273Z"
    }
   },
   "outputs": [
    {
     "data": {
      "text/html": [
       "<div>\n",
       "<style scoped>\n",
       "    .dataframe tbody tr th:only-of-type {\n",
       "        vertical-align: middle;\n",
       "    }\n",
       "\n",
       "    .dataframe tbody tr th {\n",
       "        vertical-align: top;\n",
       "    }\n",
       "\n",
       "    .dataframe thead th {\n",
       "        text-align: right;\n",
       "    }\n",
       "</style>\n",
       "<table border=\"1\" class=\"dataframe\">\n",
       "  <thead>\n",
       "    <tr style=\"text-align: right;\">\n",
       "      <th></th>\n",
       "      <th>JudgeAccusation</th>\n",
       "      <th>cat_1</th>\n",
       "      <th>cat_2</th>\n",
       "    </tr>\n",
       "  </thead>\n",
       "  <tbody>\n",
       "    <tr>\n",
       "      <th>13</th>\n",
       "      <td>诉讼请求：请求确认原告从2010年4月8日起与被告存在事实劳动关系。庭审中，原告陈常学当庭变...</td>\n",
       "      <td>劳动人事</td>\n",
       "      <td>劳动合同</td>\n",
       "    </tr>\n",
       "    <tr>\n",
       "      <th>16</th>\n",
       "      <td>诉讼请求：确认原告与被告在2009年5月4日至2015年7月10日期间存在劳动关系。事实和理...</td>\n",
       "      <td>劳动人事</td>\n",
       "      <td>劳动合同</td>\n",
       "    </tr>\n",
       "    <tr>\n",
       "      <th>17</th>\n",
       "      <td>年，原告在被告石先利经营的砖窑厂务工，所做工作为出砖。经结算，原告应得工资款4812元。20...</td>\n",
       "      <td>劳动人事</td>\n",
       "      <td>工资福利</td>\n",
       "    </tr>\n",
       "    <tr>\n",
       "      <th>27</th>\n",
       "      <td>诉讼请求：1、被告支付原告2016年春节过节费300元、国庆节过节费300元，2017年春节...</td>\n",
       "      <td>劳动人事</td>\n",
       "      <td>劳动争议</td>\n",
       "    </tr>\n",
       "    <tr>\n",
       "      <th>107</th>\n",
       "      <td>请求：1.请求依法判令被告支付原告工伤保险待遇费用，医疗费19767.9元，住院伙食补助86...</td>\n",
       "      <td>劳动人事</td>\n",
       "      <td>劳动争议</td>\n",
       "    </tr>\n",
       "    <tr>\n",
       "      <th>...</th>\n",
       "      <td>...</td>\n",
       "      <td>...</td>\n",
       "      <td>...</td>\n",
       "    </tr>\n",
       "    <tr>\n",
       "      <th>431026</th>\n",
       "      <td>于2018年8月进入被告处工作，离职前月工资分别为18000元、7200元、8000元、60...</td>\n",
       "      <td>劳动人事</td>\n",
       "      <td>劳动争议</td>\n",
       "    </tr>\n",
       "    <tr>\n",
       "      <th>431068</th>\n",
       "      <td>13年6月，被告承建凉城县工商银行职工之家，贺小刚、陶志宏、杨映科、文忠虎为该工程的具体施工...</td>\n",
       "      <td>劳动人事</td>\n",
       "      <td>工资福利</td>\n",
       "    </tr>\n",
       "    <tr>\n",
       "      <th>431097</th>\n",
       "      <td>请求：1、依法判令被告向原告支付工资4116元；2、本案诉讼费由被告承担。事实和理由：原告经...</td>\n",
       "      <td>劳动人事</td>\n",
       "      <td>工资福利</td>\n",
       "    </tr>\n",
       "    <tr>\n",
       "      <th>431099</th>\n",
       "      <td>013年7月2日，其与潘文珍的妹妹潘文琴签订劳动合同，但潘文珍擅自顶替妹妹上班。后因不熟练操...</td>\n",
       "      <td>劳动人事</td>\n",
       "      <td>劳动合同</td>\n",
       "    </tr>\n",
       "    <tr>\n",
       "      <th>431114</th>\n",
       "      <td>诉讼请求：1.判令被告立即给付原告工资款12020元；2.本案诉讼费用全部由被告承担。事实与...</td>\n",
       "      <td>劳动人事</td>\n",
       "      <td>工资福利</td>\n",
       "    </tr>\n",
       "  </tbody>\n",
       "</table>\n",
       "<p>23573 rows × 3 columns</p>\n",
       "</div>"
      ],
      "text/plain": [
       "                                          JudgeAccusation cat_1 cat_2\n",
       "13      诉讼请求：请求确认原告从2010年4月8日起与被告存在事实劳动关系。庭审中，原告陈常学当庭变...  劳动人事  劳动合同\n",
       "16      诉讼请求：确认原告与被告在2009年5月4日至2015年7月10日期间存在劳动关系。事实和理...  劳动人事  劳动合同\n",
       "17      年，原告在被告石先利经营的砖窑厂务工，所做工作为出砖。经结算，原告应得工资款4812元。20...  劳动人事  工资福利\n",
       "27      诉讼请求：1、被告支付原告2016年春节过节费300元、国庆节过节费300元，2017年春节...  劳动人事  劳动争议\n",
       "107     请求：1.请求依法判令被告支付原告工伤保险待遇费用，医疗费19767.9元，住院伙食补助86...  劳动人事  劳动争议\n",
       "...                                                   ...   ...   ...\n",
       "431026  于2018年8月进入被告处工作，离职前月工资分别为18000元、7200元、8000元、60...  劳动人事  劳动争议\n",
       "431068  13年6月，被告承建凉城县工商银行职工之家，贺小刚、陶志宏、杨映科、文忠虎为该工程的具体施工...  劳动人事  工资福利\n",
       "431097  请求：1、依法判令被告向原告支付工资4116元；2、本案诉讼费由被告承担。事实和理由：原告经...  劳动人事  工资福利\n",
       "431099  013年7月2日，其与潘文珍的妹妹潘文琴签订劳动合同，但潘文珍擅自顶替妹妹上班。后因不熟练操...  劳动人事  劳动合同\n",
       "431114  诉讼请求：1.判令被告立即给付原告工资款12020元；2.本案诉讼费用全部由被告承担。事实与...  劳动人事  工资福利\n",
       "\n",
       "[23573 rows x 3 columns]"
      ]
     },
     "execution_count": 88,
     "metadata": {},
     "output_type": "execute_result"
    }
   ],
   "source": [
    "df2 = df_group.get_group('劳动人事')\n",
    "df2"
   ]
  },
  {
   "cell_type": "code",
   "execution_count": 89,
   "id": "a3ca13d5",
   "metadata": {
    "ExecuteTime": {
     "end_time": "2023-05-17T08:54:57.727820Z",
     "start_time": "2023-05-17T08:54:57.722803Z"
    }
   },
   "outputs": [
    {
     "data": {
      "text/plain": [
       "{'劳动合同': 0, '劳动争议': 0, '工资福利': 1}"
      ]
     },
     "execution_count": 89,
     "metadata": {},
     "output_type": "execute_result"
    }
   ],
   "source": [
    "# label2id_2_v2 = {v:k for k, v in dict(enumerate(np.unique(df2['cat_2']))).items()}\n",
    "label2id_2_v2 = {'劳动合同':0,\n",
    "                 '劳动争议':0,\n",
    "                 '工资福利':1,}\n",
    "label2id_2_v2"
   ]
  },
  {
   "cell_type": "code",
   "execution_count": 90,
   "id": "3606c6c9",
   "metadata": {
    "ExecuteTime": {
     "end_time": "2023-05-17T08:54:58.432849Z",
     "start_time": "2023-05-17T08:54:58.387876Z"
    }
   },
   "outputs": [],
   "source": [
    "# total\n",
    "df2_total_v2 = pd.DataFrame(zip(df2.iloc[:, 0], df2.iloc[:, 2].apply(lambda x:label2id_2_v2[x])))\n",
    "df2_total_v2\n",
    "# train:test:dev = 6:2:2\n",
    "len_ = df2_total_v2.shape[0]\n",
    "df2_train_v2 = df2_total_v2.iloc[:int(len_*0.6)]\n",
    "df2_test_v2 = df2_total_v2.iloc[int(len_*0.6):int(len_*0.8)]\n",
    "df2_dev_v2 = df2_total_v2.iloc[int(len_*0.8):]"
   ]
  },
  {
   "cell_type": "code",
   "execution_count": 91,
   "id": "cffa598d",
   "metadata": {
    "ExecuteTime": {
     "end_time": "2023-05-17T08:55:08.888394Z",
     "start_time": "2023-05-17T08:55:08.323021Z"
    }
   },
   "outputs": [],
   "source": [
    "with open(RESULT_DIR+'/group2/v2/class.txt', 'w+', encoding='utf-8') as f:\n",
    "    f.write('劳动问题\\n')\n",
    "    f.write('工资福利\\n')\n",
    "    f.close()\n",
    "\n",
    "df2_total_v2.to_csv(RESULT_DIR+'/group2/v2/total.txt', sep='\\t', index=None, header=None)\n",
    "df2_train_v2.to_csv(RESULT_DIR+'/group2/v2/train.txt', sep='\\t', index=None, header=None)\n",
    "df2_test_v2.to_csv(RESULT_DIR+'/group2/v2/test.txt', sep='\\t', index=None, header=None)\n",
    "df2_dev_v2.to_csv(RESULT_DIR+'/group2/v2/dev.txt', sep='\\t', index=None, header=None)"
   ]
  },
  {
   "cell_type": "markdown",
   "id": "0c8484cd",
   "metadata": {},
   "source": [
    "## v3"
   ]
  },
  {
   "cell_type": "code",
   "execution_count": 92,
   "id": "1237f387",
   "metadata": {
    "ExecuteTime": {
     "end_time": "2023-05-17T08:55:10.785960Z",
     "start_time": "2023-05-17T08:55:10.763960Z"
    }
   },
   "outputs": [
    {
     "data": {
      "text/html": [
       "<div>\n",
       "<style scoped>\n",
       "    .dataframe tbody tr th:only-of-type {\n",
       "        vertical-align: middle;\n",
       "    }\n",
       "\n",
       "    .dataframe tbody tr th {\n",
       "        vertical-align: top;\n",
       "    }\n",
       "\n",
       "    .dataframe thead th {\n",
       "        text-align: right;\n",
       "    }\n",
       "</style>\n",
       "<table border=\"1\" class=\"dataframe\">\n",
       "  <thead>\n",
       "    <tr style=\"text-align: right;\">\n",
       "      <th></th>\n",
       "      <th>JudgeAccusation</th>\n",
       "      <th>cat_1</th>\n",
       "      <th>cat_2</th>\n",
       "    </tr>\n",
       "  </thead>\n",
       "  <tbody>\n",
       "    <tr>\n",
       "      <th>13</th>\n",
       "      <td>诉讼请求：请求确认原告从2010年4月8日起与被告存在事实劳动关系。庭审中，原告陈常学当庭变...</td>\n",
       "      <td>劳动人事</td>\n",
       "      <td>劳动合同</td>\n",
       "    </tr>\n",
       "    <tr>\n",
       "      <th>16</th>\n",
       "      <td>诉讼请求：确认原告与被告在2009年5月4日至2015年7月10日期间存在劳动关系。事实和理...</td>\n",
       "      <td>劳动人事</td>\n",
       "      <td>劳动合同</td>\n",
       "    </tr>\n",
       "    <tr>\n",
       "      <th>27</th>\n",
       "      <td>诉讼请求：1、被告支付原告2016年春节过节费300元、国庆节过节费300元，2017年春节...</td>\n",
       "      <td>劳动人事</td>\n",
       "      <td>劳动争议</td>\n",
       "    </tr>\n",
       "    <tr>\n",
       "      <th>107</th>\n",
       "      <td>请求：1.请求依法判令被告支付原告工伤保险待遇费用，医疗费19767.9元，住院伙食补助86...</td>\n",
       "      <td>劳动人事</td>\n",
       "      <td>劳动争议</td>\n",
       "    </tr>\n",
       "    <tr>\n",
       "      <th>180</th>\n",
       "      <td>请求：请求法院判令被告：1.支付2018年10月18日至2018年11月16日、2019年3...</td>\n",
       "      <td>劳动人事</td>\n",
       "      <td>劳动争议</td>\n",
       "    </tr>\n",
       "    <tr>\n",
       "      <th>...</th>\n",
       "      <td>...</td>\n",
       "      <td>...</td>\n",
       "      <td>...</td>\n",
       "    </tr>\n",
       "    <tr>\n",
       "      <th>430824</th>\n",
       "      <td>系1997年1月招入被告委托冷水江市高级技工学校进行培训的一批汽车驾驶和汽车维修班的学员。自...</td>\n",
       "      <td>劳动人事</td>\n",
       "      <td>劳动合同</td>\n",
       "    </tr>\n",
       "    <tr>\n",
       "      <th>430829</th>\n",
       "      <td>诉讼请求：要求判决被告支付违法解除劳动关系经济补偿金4000元。事实和理由：2017年11月...</td>\n",
       "      <td>劳动人事</td>\n",
       "      <td>劳动争议</td>\n",
       "    </tr>\n",
       "    <tr>\n",
       "      <th>430919</th>\n",
       "      <td>请求：1．依法确认原告与被告于1996年9月至今存在劳动关系；2．案件受理费由被告承担。事实...</td>\n",
       "      <td>劳动人事</td>\n",
       "      <td>劳动合同</td>\n",
       "    </tr>\n",
       "    <tr>\n",
       "      <th>431026</th>\n",
       "      <td>于2018年8月进入被告处工作，离职前月工资分别为18000元、7200元、8000元、60...</td>\n",
       "      <td>劳动人事</td>\n",
       "      <td>劳动争议</td>\n",
       "    </tr>\n",
       "    <tr>\n",
       "      <th>431099</th>\n",
       "      <td>013年7月2日，其与潘文珍的妹妹潘文琴签订劳动合同，但潘文珍擅自顶替妹妹上班。后因不熟练操...</td>\n",
       "      <td>劳动人事</td>\n",
       "      <td>劳动合同</td>\n",
       "    </tr>\n",
       "  </tbody>\n",
       "</table>\n",
       "<p>12551 rows × 3 columns</p>\n",
       "</div>"
      ],
      "text/plain": [
       "                                          JudgeAccusation cat_1 cat_2\n",
       "13      诉讼请求：请求确认原告从2010年4月8日起与被告存在事实劳动关系。庭审中，原告陈常学当庭变...  劳动人事  劳动合同\n",
       "16      诉讼请求：确认原告与被告在2009年5月4日至2015年7月10日期间存在劳动关系。事实和理...  劳动人事  劳动合同\n",
       "27      诉讼请求：1、被告支付原告2016年春节过节费300元、国庆节过节费300元，2017年春节...  劳动人事  劳动争议\n",
       "107     请求：1.请求依法判令被告支付原告工伤保险待遇费用，医疗费19767.9元，住院伙食补助86...  劳动人事  劳动争议\n",
       "180     请求：请求法院判令被告：1.支付2018年10月18日至2018年11月16日、2019年3...  劳动人事  劳动争议\n",
       "...                                                   ...   ...   ...\n",
       "430824  系1997年1月招入被告委托冷水江市高级技工学校进行培训的一批汽车驾驶和汽车维修班的学员。自...  劳动人事  劳动合同\n",
       "430829  诉讼请求：要求判决被告支付违法解除劳动关系经济补偿金4000元。事实和理由：2017年11月...  劳动人事  劳动争议\n",
       "430919  请求：1．依法确认原告与被告于1996年9月至今存在劳动关系；2．案件受理费由被告承担。事实...  劳动人事  劳动合同\n",
       "431026  于2018年8月进入被告处工作，离职前月工资分别为18000元、7200元、8000元、60...  劳动人事  劳动争议\n",
       "431099  013年7月2日，其与潘文珍的妹妹潘文琴签订劳动合同，但潘文珍擅自顶替妹妹上班。后因不熟练操...  劳动人事  劳动合同\n",
       "\n",
       "[12551 rows x 3 columns]"
      ]
     },
     "execution_count": 92,
     "metadata": {},
     "output_type": "execute_result"
    }
   ],
   "source": [
    "df2 = df_group.get_group('劳动人事')\n",
    "df2 = df2[(df2['cat_2'] == '劳动合同') | (df2['cat_2'] == '劳动争议')]\n",
    "df2"
   ]
  },
  {
   "cell_type": "code",
   "execution_count": 93,
   "id": "47e6d937",
   "metadata": {
    "ExecuteTime": {
     "end_time": "2023-05-17T08:55:11.549829Z",
     "start_time": "2023-05-17T08:55:11.533082Z"
    }
   },
   "outputs": [
    {
     "data": {
      "text/plain": [
       "{'劳动合同': 0, '劳动争议': 1}"
      ]
     },
     "execution_count": 93,
     "metadata": {},
     "output_type": "execute_result"
    }
   ],
   "source": [
    "# label2id_2_v2 = {v:k for k, v in dict(enumerate(np.unique(df2['cat_2']))).items()}\n",
    "label2id_2_v3 = {'劳动合同':0,\n",
    "                 '劳动争议':1,}\n",
    "label2id_2_v3"
   ]
  },
  {
   "cell_type": "code",
   "execution_count": 94,
   "id": "9f26ba00",
   "metadata": {
    "ExecuteTime": {
     "end_time": "2023-05-17T08:55:12.472359Z",
     "start_time": "2023-05-17T08:55:12.440574Z"
    }
   },
   "outputs": [],
   "source": [
    "# total\n",
    "df2_total_v3 = pd.DataFrame(zip(df2.iloc[:, 0], df2.iloc[:, 2].apply(lambda x:label2id_2_v3[x])))\n",
    "df2_total_v3\n",
    "# train:test:dev = 6:2:2\n",
    "len_ = df2_total_v3.shape[0]\n",
    "df2_train_v3 = df2_total_v3.iloc[:int(len_*0.6)]\n",
    "df2_test_v3 = df2_total_v3.iloc[int(len_*0.6):int(len_*0.8)]\n",
    "df2_dev_v3 = df2_total_v3.iloc[int(len_*0.8):]"
   ]
  },
  {
   "cell_type": "code",
   "execution_count": 95,
   "id": "9934f63a",
   "metadata": {
    "ExecuteTime": {
     "end_time": "2023-05-17T08:55:17.078817Z",
     "start_time": "2023-05-17T08:55:16.713972Z"
    }
   },
   "outputs": [],
   "source": [
    "with open(RESULT_DIR+'/group2/v2/v3/class.txt', 'w+', encoding='utf-8') as f:\n",
    "    f.write('劳动合同\\n')\n",
    "    f.write('劳动争议\\n')\n",
    "    f.close()\n",
    "\n",
    "df2_total_v3.to_csv(RESULT_DIR+'/group2/v2/v3/total.txt', sep='\\t', index=None, header=None)\n",
    "df2_train_v3.to_csv(RESULT_DIR+'/group2/v2/v3/train.txt', sep='\\t', index=None, header=None)\n",
    "df2_test_v3.to_csv(RESULT_DIR+'/group2/v2/v3/test.txt', sep='\\t', index=None, header=None)\n",
    "df2_dev_v3.to_csv(RESULT_DIR+'/group2/v2/v3/dev.txt', sep='\\t', index=None, header=None)"
   ]
  },
  {
   "cell_type": "markdown",
   "id": "46597b74",
   "metadata": {},
   "source": [
    "# 合同事务"
   ]
  },
  {
   "cell_type": "code",
   "execution_count": 37,
   "id": "91e777c7",
   "metadata": {
    "ExecuteTime": {
     "end_time": "2023-05-13T14:58:21.100967Z",
     "start_time": "2023-05-13T14:58:21.067687Z"
    }
   },
   "outputs": [
    {
     "data": {
      "text/html": [
       "<div>\n",
       "<style scoped>\n",
       "    .dataframe tbody tr th:only-of-type {\n",
       "        vertical-align: middle;\n",
       "    }\n",
       "\n",
       "    .dataframe tbody tr th {\n",
       "        vertical-align: top;\n",
       "    }\n",
       "\n",
       "    .dataframe thead th {\n",
       "        text-align: right;\n",
       "    }\n",
       "</style>\n",
       "<table border=\"1\" class=\"dataframe\">\n",
       "  <thead>\n",
       "    <tr style=\"text-align: right;\">\n",
       "      <th></th>\n",
       "      <th>JudgeAccusation</th>\n",
       "      <th>cat_1</th>\n",
       "      <th>cat_2</th>\n",
       "    </tr>\n",
       "  </thead>\n",
       "  <tbody>\n",
       "    <tr>\n",
       "      <th>2</th>\n",
       "      <td>公司向本院提出诉讼请求：1.判令张玲娣偿还借款人民币111000元及利息（以111000元为...</td>\n",
       "      <td>合同事务</td>\n",
       "      <td>借款合同</td>\n",
       "    </tr>\n",
       "    <tr>\n",
       "      <th>3</th>\n",
       "      <td>限公司起诉至本院请求判令：一、被告向原告支付所欠货款127290元；二、被告向原告支付违约金...</td>\n",
       "      <td>合同事务</td>\n",
       "      <td>承揽合同</td>\n",
       "    </tr>\n",
       "    <tr>\n",
       "      <th>6</th>\n",
       "      <td>诉讼请求：解除与被告舒梵公司于2021年4月29日签订的教育培训合同；退还剩余学费6399....</td>\n",
       "      <td>合同事务</td>\n",
       "      <td>服务合同</td>\n",
       "    </tr>\n",
       "    <tr>\n",
       "      <th>8</th>\n",
       "      <td>有限公司乌兰察布分行向本院提出诉讼请求：1.请求判令被告贾永刚偿还原告贷款本金15163.7...</td>\n",
       "      <td>合同事务</td>\n",
       "      <td>合同纠纷</td>\n",
       "    </tr>\n",
       "    <tr>\n",
       "      <th>9</th>\n",
       "      <td>公司向本院提出诉讼请求：1.依法确认2015年9月11日四方签订的《解除协议书》为无效合同；...</td>\n",
       "      <td>合同事务</td>\n",
       "      <td>合同纠纷</td>\n",
       "    </tr>\n",
       "    <tr>\n",
       "      <th>...</th>\n",
       "      <td>...</td>\n",
       "      <td>...</td>\n",
       "      <td>...</td>\n",
       "    </tr>\n",
       "    <tr>\n",
       "      <th>431104</th>\n",
       "      <td>求：1.依法判令被告睢双全偿还借款7438.89元及至实际履行完毕之日的利息（含罚息、复利）...</td>\n",
       "      <td>合同事务</td>\n",
       "      <td>借款合同</td>\n",
       "    </tr>\n",
       "    <tr>\n",
       "      <th>431105</th>\n",
       "      <td>讼请求：1、请求人民法院判决被告支付原告14580元；2、本案诉讼费用由被告承担。2017年...</td>\n",
       "      <td>合同事务</td>\n",
       "      <td>租赁合同</td>\n",
       "    </tr>\n",
       "    <tr>\n",
       "      <th>431107</th>\n",
       "      <td>出诉讼请求：1、请求判令被告支付原告代偿款192598.25元，并以代偿款为基数，按年利率1...</td>\n",
       "      <td>合同事务</td>\n",
       "      <td>合同纠纷</td>\n",
       "    </tr>\n",
       "    <tr>\n",
       "      <th>431110</th>\n",
       "      <td>15年5月22日，原告与被告江君芬签订了一份编号为20150522001132的浙江泰隆商业...</td>\n",
       "      <td>合同事务</td>\n",
       "      <td>合同纠纷</td>\n",
       "    </tr>\n",
       "    <tr>\n",
       "      <th>431112</th>\n",
       "      <td>10年9月13日，被告张连永与原告签订银行信用卡领用合约，向原告申领银行信用卡，信用额度为5...</td>\n",
       "      <td>合同事务</td>\n",
       "      <td>合同纠纷</td>\n",
       "    </tr>\n",
       "  </tbody>\n",
       "</table>\n",
       "<p>213993 rows × 3 columns</p>\n",
       "</div>"
      ],
      "text/plain": [
       "                                          JudgeAccusation cat_1 cat_2\n",
       "2       公司向本院提出诉讼请求：1.判令张玲娣偿还借款人民币111000元及利息（以111000元为...  合同事务  借款合同\n",
       "3       限公司起诉至本院请求判令：一、被告向原告支付所欠货款127290元；二、被告向原告支付违约金...  合同事务  承揽合同\n",
       "6       诉讼请求：解除与被告舒梵公司于2021年4月29日签订的教育培训合同；退还剩余学费6399....  合同事务  服务合同\n",
       "8       有限公司乌兰察布分行向本院提出诉讼请求：1.请求判令被告贾永刚偿还原告贷款本金15163.7...  合同事务  合同纠纷\n",
       "9       公司向本院提出诉讼请求：1.依法确认2015年9月11日四方签订的《解除协议书》为无效合同；...  合同事务  合同纠纷\n",
       "...                                                   ...   ...   ...\n",
       "431104  求：1.依法判令被告睢双全偿还借款7438.89元及至实际履行完毕之日的利息（含罚息、复利）...  合同事务  借款合同\n",
       "431105  讼请求：1、请求人民法院判决被告支付原告14580元；2、本案诉讼费用由被告承担。2017年...  合同事务  租赁合同\n",
       "431107  出诉讼请求：1、请求判令被告支付原告代偿款192598.25元，并以代偿款为基数，按年利率1...  合同事务  合同纠纷\n",
       "431110  15年5月22日，原告与被告江君芬签订了一份编号为20150522001132的浙江泰隆商业...  合同事务  合同纠纷\n",
       "431112  10年9月13日，被告张连永与原告签订银行信用卡领用合约，向原告申领银行信用卡，信用额度为5...  合同事务  合同纠纷\n",
       "\n",
       "[213993 rows x 3 columns]"
      ]
     },
     "execution_count": 37,
     "metadata": {},
     "output_type": "execute_result"
    }
   ],
   "source": [
    "df3 = df_group.get_group('合同事务')\n",
    "df3"
   ]
  },
  {
   "cell_type": "code",
   "execution_count": 38,
   "id": "15730c72",
   "metadata": {
    "ExecuteTime": {
     "end_time": "2023-05-13T14:58:35.353237Z",
     "start_time": "2023-05-13T14:58:35.257504Z"
    }
   },
   "outputs": [
    {
     "data": {
      "text/plain": [
       "{'买卖合同': 0,\n",
       " '借款合同': 1,\n",
       " '合同纠纷': 2,\n",
       " '委托合同': 3,\n",
       " '承揽合同': 4,\n",
       " '抵押担保': 5,\n",
       " '服务合同': 6,\n",
       " '租赁合同': 7,\n",
       " '融资租赁': 8,\n",
       " '运输合同': 9}"
      ]
     },
     "execution_count": 38,
     "metadata": {},
     "output_type": "execute_result"
    }
   ],
   "source": [
    "label2id_3 = {v:k for k, v in dict(enumerate(np.unique(df3['cat_2']))).items()}\n",
    "label2id_3"
   ]
  },
  {
   "cell_type": "code",
   "execution_count": 39,
   "id": "6d1b6ed3",
   "metadata": {
    "ExecuteTime": {
     "end_time": "2023-05-13T14:59:13.395076Z",
     "start_time": "2023-05-13T14:59:13.242276Z"
    }
   },
   "outputs": [],
   "source": [
    "# total\n",
    "df3_total = pd.DataFrame(zip(df3.iloc[:, 0], df3.iloc[:, 2].apply(lambda x:label2id_3[x])))\n",
    "df3_total\n",
    "# train:test:dev = 6:2:2\n",
    "len_ = df3_total.shape[0]\n",
    "df3_train = df3_total.iloc[:int(len_*0.6)]\n",
    "df3_test = df3_total.iloc[int(len_*0.6):int(len_*0.8)]\n",
    "df3_dev = df3_total.iloc[int(len_*0.8):]"
   ]
  },
  {
   "cell_type": "code",
   "execution_count": 40,
   "id": "3d9c7e82",
   "metadata": {
    "ExecuteTime": {
     "end_time": "2023-05-13T14:59:37.448166Z",
     "start_time": "2023-05-13T14:59:31.730173Z"
    }
   },
   "outputs": [],
   "source": [
    "df3_total.to_csv(RESULT_DIR+'/group3/total.txt', sep='\\t', index=None, header=None)\n",
    "df3_train.to_csv(RESULT_DIR+'/group3/train.txt', sep='\\t', index=None, header=None)\n",
    "df3_test.to_csv(RESULT_DIR+'/group3/test.txt', sep='\\t', index=None, header=None)\n",
    "df3_dev.to_csv(RESULT_DIR+'/group3/dev.txt', sep='\\t', index=None, header=None)"
   ]
  },
  {
   "cell_type": "code",
   "execution_count": null,
   "id": "7c5b1c2e",
   "metadata": {},
   "outputs": [],
   "source": []
  },
  {
   "cell_type": "markdown",
   "id": "ad5d337b",
   "metadata": {},
   "source": [
    "# 婚姻家庭"
   ]
  },
  {
   "cell_type": "code",
   "execution_count": 41,
   "id": "94313c80",
   "metadata": {
    "ExecuteTime": {
     "end_time": "2023-05-13T14:59:45.404180Z",
     "start_time": "2023-05-13T14:59:45.388695Z"
    }
   },
   "outputs": [
    {
     "data": {
      "text/html": [
       "<div>\n",
       "<style scoped>\n",
       "    .dataframe tbody tr th:only-of-type {\n",
       "        vertical-align: middle;\n",
       "    }\n",
       "\n",
       "    .dataframe tbody tr th {\n",
       "        vertical-align: top;\n",
       "    }\n",
       "\n",
       "    .dataframe thead th {\n",
       "        text-align: right;\n",
       "    }\n",
       "</style>\n",
       "<table border=\"1\" class=\"dataframe\">\n",
       "  <thead>\n",
       "    <tr style=\"text-align: right;\">\n",
       "      <th></th>\n",
       "      <th>JudgeAccusation</th>\n",
       "      <th>cat_1</th>\n",
       "      <th>cat_2</th>\n",
       "    </tr>\n",
       "  </thead>\n",
       "  <tbody>\n",
       "    <tr>\n",
       "      <th>0</th>\n",
       "      <td>1.依法解除原被告之间的婚姻关系。2.婚生的长子闫某某，次子闫某某由被告抚养，原告承担抚养费...</td>\n",
       "      <td>婚姻家庭</td>\n",
       "      <td>结婚离婚</td>\n",
       "    </tr>\n",
       "    <tr>\n",
       "      <th>5</th>\n",
       "      <td>求：1.依法判令原、被告非婚生女马雅婷由原告抚养，被告每月支付抚养费1000元，至孩子年满1...</td>\n",
       "      <td>婚姻家庭</td>\n",
       "      <td>财产分割</td>\n",
       "    </tr>\n",
       "    <tr>\n",
       "      <th>11</th>\n",
       "      <td>1向本院提出诉讼请求：1.判决被告返还原告彩礼38000.00元；2.代理费6000.00元...</td>\n",
       "      <td>婚姻家庭</td>\n",
       "      <td>财产分割</td>\n",
       "    </tr>\n",
       "    <tr>\n",
       "      <th>24</th>\n",
       "      <td>讼请求：1、判决被告履行原、被告双方自愿签订的协议义务，支付逾期款项20000元，并分别从逾...</td>\n",
       "      <td>婚姻家庭</td>\n",
       "      <td>财产分割</td>\n",
       "    </tr>\n",
       "    <tr>\n",
       "      <th>39</th>\n",
       "      <td>诉讼请求：1、依法判令被告偿还原告借款26万元整，支付利息124800元，合计：384800...</td>\n",
       "      <td>婚姻家庭</td>\n",
       "      <td>孩子抚养</td>\n",
       "    </tr>\n",
       "    <tr>\n",
       "      <th>...</th>\n",
       "      <td>...</td>\n",
       "      <td>...</td>\n",
       "      <td>...</td>\n",
       "    </tr>\n",
       "    <tr>\n",
       "      <th>431080</th>\n",
       "      <td>，三被告系原告儿子，原告因年迈无收入、无生活自理能力且身患，原告多次要求三被告履行赡养义务，...</td>\n",
       "      <td>婚姻家庭</td>\n",
       "      <td>老人赡养</td>\n",
       "    </tr>\n",
       "    <tr>\n",
       "      <th>431082</th>\n",
       "      <td>早年丧偶，与前妻育有高某2、高某3、高某4。1986年3月27日，二原告结婚后，于1987年...</td>\n",
       "      <td>婚姻家庭</td>\n",
       "      <td>老人赡养</td>\n",
       "    </tr>\n",
       "    <tr>\n",
       "      <th>431093</th>\n",
       "      <td>告于2010年7月5日在庆城县高楼乡人民政府登记结婚，婚后未生育子女，在共同生活期间，双方常...</td>\n",
       "      <td>婚姻家庭</td>\n",
       "      <td>结婚离婚</td>\n",
       "    </tr>\n",
       "    <tr>\n",
       "      <th>431096</th>\n",
       "      <td>求：1、要求四被告承担赡养义务，四被告每年给付原告赡养费按照2019年度河北省农村居民人均年...</td>\n",
       "      <td>婚姻家庭</td>\n",
       "      <td>老人赡养</td>\n",
       "    </tr>\n",
       "    <tr>\n",
       "      <th>431108</th>\n",
       "      <td>告1999年相识，2001年1月12日生下长女沈某某，为了对孩子担负起责任，于2004年5月...</td>\n",
       "      <td>婚姻家庭</td>\n",
       "      <td>结婚离婚</td>\n",
       "    </tr>\n",
       "  </tbody>\n",
       "</table>\n",
       "<p>48996 rows × 3 columns</p>\n",
       "</div>"
      ],
      "text/plain": [
       "                                          JudgeAccusation cat_1 cat_2\n",
       "0       1.依法解除原被告之间的婚姻关系。2.婚生的长子闫某某，次子闫某某由被告抚养，原告承担抚养费...  婚姻家庭  结婚离婚\n",
       "5       求：1.依法判令原、被告非婚生女马雅婷由原告抚养，被告每月支付抚养费1000元，至孩子年满1...  婚姻家庭  财产分割\n",
       "11      1向本院提出诉讼请求：1.判决被告返还原告彩礼38000.00元；2.代理费6000.00元...  婚姻家庭  财产分割\n",
       "24      讼请求：1、判决被告履行原、被告双方自愿签订的协议义务，支付逾期款项20000元，并分别从逾...  婚姻家庭  财产分割\n",
       "39      诉讼请求：1、依法判令被告偿还原告借款26万元整，支付利息124800元，合计：384800...  婚姻家庭  孩子抚养\n",
       "...                                                   ...   ...   ...\n",
       "431080  ，三被告系原告儿子，原告因年迈无收入、无生活自理能力且身患，原告多次要求三被告履行赡养义务，...  婚姻家庭  老人赡养\n",
       "431082  早年丧偶，与前妻育有高某2、高某3、高某4。1986年3月27日，二原告结婚后，于1987年...  婚姻家庭  老人赡养\n",
       "431093  告于2010年7月5日在庆城县高楼乡人民政府登记结婚，婚后未生育子女，在共同生活期间，双方常...  婚姻家庭  结婚离婚\n",
       "431096  求：1、要求四被告承担赡养义务，四被告每年给付原告赡养费按照2019年度河北省农村居民人均年...  婚姻家庭  老人赡养\n",
       "431108  告1999年相识，2001年1月12日生下长女沈某某，为了对孩子担负起责任，于2004年5月...  婚姻家庭  结婚离婚\n",
       "\n",
       "[48996 rows x 3 columns]"
      ]
     },
     "execution_count": 41,
     "metadata": {},
     "output_type": "execute_result"
    }
   ],
   "source": [
    "df4 = df_group.get_group('婚姻家庭')\n",
    "df4"
   ]
  },
  {
   "cell_type": "code",
   "execution_count": 42,
   "id": "0439416f",
   "metadata": {
    "ExecuteTime": {
     "end_time": "2023-05-13T15:00:05.440597Z",
     "start_time": "2023-05-13T15:00:05.401804Z"
    }
   },
   "outputs": [
    {
     "data": {
      "text/plain": [
       "{'孩子抚养': 0, '结婚离婚': 1, '老人赡养': 2, '财产分割': 3, '遗产继承': 4}"
      ]
     },
     "execution_count": 42,
     "metadata": {},
     "output_type": "execute_result"
    }
   ],
   "source": [
    "label2id_4 = {v:k for k, v in dict(enumerate(np.unique(df4['cat_2']))).items()}\n",
    "label2id_4"
   ]
  },
  {
   "cell_type": "code",
   "execution_count": 43,
   "id": "ce88e16c",
   "metadata": {
    "ExecuteTime": {
     "end_time": "2023-05-13T15:00:33.426944Z",
     "start_time": "2023-05-13T15:00:33.346107Z"
    }
   },
   "outputs": [],
   "source": [
    "# total\n",
    "df4_total = pd.DataFrame(zip(df4.iloc[:, 0], df4.iloc[:, 2].apply(lambda x:label2id_4[x])))\n",
    "df4_total\n",
    "# train:test:dev = 6:2:2\n",
    "len_ = df4_total.shape[0]\n",
    "df4_train = df4_total.iloc[:int(len_*0.6)]\n",
    "df4_test = df4_total.iloc[int(len_*0.6):int(len_*0.8)]\n",
    "df4_dev = df4_total.iloc[int(len_*0.8):]"
   ]
  },
  {
   "cell_type": "code",
   "execution_count": 44,
   "id": "34edca72",
   "metadata": {
    "ExecuteTime": {
     "end_time": "2023-05-13T15:00:51.320367Z",
     "start_time": "2023-05-13T15:00:50.171030Z"
    }
   },
   "outputs": [],
   "source": [
    "df4_total.to_csv(RESULT_DIR+'/group4/total.txt', sep='\\t', index=None, header=None)\n",
    "df4_train.to_csv(RESULT_DIR+'/group4/train.txt', sep='\\t', index=None, header=None)\n",
    "df4_test.to_csv(RESULT_DIR+'/group4/test.txt', sep='\\t', index=None, header=None)\n",
    "df4_dev.to_csv(RESULT_DIR+'/group4/dev.txt', sep='\\t', index=None, header=None)"
   ]
  },
  {
   "cell_type": "code",
   "execution_count": null,
   "id": "1f8e4440",
   "metadata": {},
   "outputs": [],
   "source": []
  },
  {
   "cell_type": "markdown",
   "id": "25cd3e20",
   "metadata": {},
   "source": [
    "# 房地产纠纷"
   ]
  },
  {
   "cell_type": "code",
   "execution_count": 45,
   "id": "cb9d247a",
   "metadata": {
    "ExecuteTime": {
     "end_time": "2023-05-13T15:01:00.191874Z",
     "start_time": "2023-05-13T15:01:00.174294Z"
    }
   },
   "outputs": [
    {
     "data": {
      "text/html": [
       "<div>\n",
       "<style scoped>\n",
       "    .dataframe tbody tr th:only-of-type {\n",
       "        vertical-align: middle;\n",
       "    }\n",
       "\n",
       "    .dataframe tbody tr th {\n",
       "        vertical-align: top;\n",
       "    }\n",
       "\n",
       "    .dataframe thead th {\n",
       "        text-align: right;\n",
       "    }\n",
       "</style>\n",
       "<table border=\"1\" class=\"dataframe\">\n",
       "  <thead>\n",
       "    <tr style=\"text-align: right;\">\n",
       "      <th></th>\n",
       "      <th>JudgeAccusation</th>\n",
       "      <th>cat_1</th>\n",
       "      <th>cat_2</th>\n",
       "    </tr>\n",
       "  </thead>\n",
       "  <tbody>\n",
       "    <tr>\n",
       "      <th>14</th>\n",
       "      <td>提出诉讼请求：1、请求判决被告中大黔城公司履行商品房买卖合同；2、按中国人民银行同期贷款利率...</td>\n",
       "      <td>房地产纠纷</td>\n",
       "      <td>房屋买卖</td>\n",
       "    </tr>\n",
       "    <tr>\n",
       "      <th>26</th>\n",
       "      <td>讼请求：要求被告给付补偿款2000000元并承担至付清止的利息241666元（200万元5％...</td>\n",
       "      <td>房地产纠纷</td>\n",
       "      <td>房产纠纷</td>\n",
       "    </tr>\n",
       "    <tr>\n",
       "      <th>40</th>\n",
       "      <td>民政府向本院提出诉讼请求：一、判决解除原告与被告北京鑫兴富民农业科技有限公司分别于2017年...</td>\n",
       "      <td>房地产纠纷</td>\n",
       "      <td>土地纠纷</td>\n",
       "    </tr>\n",
       "    <tr>\n",
       "      <th>46</th>\n",
       "      <td>诉讼请求：1、请求法院判令原告购房时签订的《前期物业管理服务协议》为无效协议，予以解除；2、...</td>\n",
       "      <td>房地产纠纷</td>\n",
       "      <td>物业纠纷</td>\n",
       "    </tr>\n",
       "    <tr>\n",
       "      <th>64</th>\n",
       "      <td>院提出诉讼请求：1、判令被告立即向原告支付承包金2024790元；2、请求人民法院确认本案《...</td>\n",
       "      <td>房地产纠纷</td>\n",
       "      <td>土地纠纷</td>\n",
       "    </tr>\n",
       "    <tr>\n",
       "      <th>...</th>\n",
       "      <td>...</td>\n",
       "      <td>...</td>\n",
       "      <td>...</td>\n",
       "    </tr>\n",
       "    <tr>\n",
       "      <th>431081</th>\n",
       "      <td>求：1、判令被告向原告支付2015年9月15日至2019年12月31日拖欠的物业费及公共照明...</td>\n",
       "      <td>房地产纠纷</td>\n",
       "      <td>物业纠纷</td>\n",
       "    </tr>\n",
       "    <tr>\n",
       "      <th>431086</th>\n",
       "      <td>请求：1、判令小屯村委会给付2015年8月1日至2017年7月31日的土地流转费9000元；...</td>\n",
       "      <td>房地产纠纷</td>\n",
       "      <td>土地纠纷</td>\n",
       "    </tr>\n",
       "    <tr>\n",
       "      <th>431109</th>\n",
       "      <td>诉讼请求：要求确认二被告于2013年4月30日签订的商品房买卖合同（编号：2011-000Ｘ...</td>\n",
       "      <td>房地产纠纷</td>\n",
       "      <td>房屋买卖</td>\n",
       "    </tr>\n",
       "    <tr>\n",
       "      <th>431113</th>\n",
       "      <td>讼请求：1.解除原被告于2011年3月31日签订的《房屋转让合同》；2.被告向原告退还7万元...</td>\n",
       "      <td>房地产纠纷</td>\n",
       "      <td>房屋买卖</td>\n",
       "    </tr>\n",
       "    <tr>\n",
       "      <th>431116</th>\n",
       "      <td>求：1.判令被告给付2013年3月1日至2015年2月28日期间的物业费1464.48元及违...</td>\n",
       "      <td>房地产纠纷</td>\n",
       "      <td>物业纠纷</td>\n",
       "    </tr>\n",
       "  </tbody>\n",
       "</table>\n",
       "<p>40758 rows × 3 columns</p>\n",
       "</div>"
      ],
      "text/plain": [
       "                                          JudgeAccusation  cat_1 cat_2\n",
       "14      提出诉讼请求：1、请求判决被告中大黔城公司履行商品房买卖合同；2、按中国人民银行同期贷款利率...  房地产纠纷  房屋买卖\n",
       "26      讼请求：要求被告给付补偿款2000000元并承担至付清止的利息241666元（200万元5％...  房地产纠纷  房产纠纷\n",
       "40      民政府向本院提出诉讼请求：一、判决解除原告与被告北京鑫兴富民农业科技有限公司分别于2017年...  房地产纠纷  土地纠纷\n",
       "46      诉讼请求：1、请求法院判令原告购房时签订的《前期物业管理服务协议》为无效协议，予以解除；2、...  房地产纠纷  物业纠纷\n",
       "64      院提出诉讼请求：1、判令被告立即向原告支付承包金2024790元；2、请求人民法院确认本案《...  房地产纠纷  土地纠纷\n",
       "...                                                   ...    ...   ...\n",
       "431081  求：1、判令被告向原告支付2015年9月15日至2019年12月31日拖欠的物业费及公共照明...  房地产纠纷  物业纠纷\n",
       "431086  请求：1、判令小屯村委会给付2015年8月1日至2017年7月31日的土地流转费9000元；...  房地产纠纷  土地纠纷\n",
       "431109  诉讼请求：要求确认二被告于2013年4月30日签订的商品房买卖合同（编号：2011-000Ｘ...  房地产纠纷  房屋买卖\n",
       "431113  讼请求：1.解除原被告于2011年3月31日签订的《房屋转让合同》；2.被告向原告退还7万元...  房地产纠纷  房屋买卖\n",
       "431116  求：1.判令被告给付2013年3月1日至2015年2月28日期间的物业费1464.48元及违...  房地产纠纷  物业纠纷\n",
       "\n",
       "[40758 rows x 3 columns]"
      ]
     },
     "execution_count": 45,
     "metadata": {},
     "output_type": "execute_result"
    }
   ],
   "source": [
    "df5 = df_group.get_group('房地产纠纷')\n",
    "df5"
   ]
  },
  {
   "cell_type": "code",
   "execution_count": 46,
   "id": "2af233f7",
   "metadata": {
    "ExecuteTime": {
     "end_time": "2023-05-13T15:01:21.961261Z",
     "start_time": "2023-05-13T15:01:21.927026Z"
    }
   },
   "outputs": [
    {
     "data": {
      "text/plain": [
       "{'土地纠纷': 0, '房产纠纷': 1, '房屋买卖': 2, '物业纠纷': 3}"
      ]
     },
     "execution_count": 46,
     "metadata": {},
     "output_type": "execute_result"
    }
   ],
   "source": [
    "label2id_5 = {v:k for k, v in dict(enumerate(np.unique(df5['cat_2']))).items()}\n",
    "label2id_5"
   ]
  },
  {
   "cell_type": "code",
   "execution_count": 47,
   "id": "7bb35b1e",
   "metadata": {
    "ExecuteTime": {
     "end_time": "2023-05-13T15:01:50.360005Z",
     "start_time": "2023-05-13T15:01:50.299036Z"
    }
   },
   "outputs": [],
   "source": [
    "# total\n",
    "df5_total = pd.DataFrame(zip(df5.iloc[:, 0], df5.iloc[:, 2].apply(lambda x:label2id_5[x])))\n",
    "df5_total\n",
    "# train:test:dev = 6:2:2\n",
    "len_ = df5_total.shape[0]\n",
    "df5_train = df5_total.iloc[:int(len_*0.6)]\n",
    "df5_test = df5_total.iloc[int(len_*0.6):int(len_*0.8)]\n",
    "df5_dev = df5_total.iloc[int(len_*0.8):]"
   ]
  },
  {
   "cell_type": "code",
   "execution_count": 48,
   "id": "bec4a6a4",
   "metadata": {
    "ExecuteTime": {
     "end_time": "2023-05-13T15:02:08.230969Z",
     "start_time": "2023-05-13T15:02:07.251967Z"
    }
   },
   "outputs": [],
   "source": [
    "df5_total.to_csv(RESULT_DIR+'/group5/total.txt', sep='\\t', index=None, header=None)\n",
    "df5_train.to_csv(RESULT_DIR+'/group5/train.txt', sep='\\t', index=None, header=None)\n",
    "df5_test.to_csv(RESULT_DIR+'/group5/test.txt', sep='\\t', index=None, header=None)\n",
    "df5_dev.to_csv(RESULT_DIR+'/group5/dev.txt', sep='\\t', index=None, header=None)"
   ]
  },
  {
   "cell_type": "code",
   "execution_count": null,
   "id": "f464c6c8",
   "metadata": {},
   "outputs": [],
   "source": []
  },
  {
   "cell_type": "markdown",
   "id": "5c2e86ad",
   "metadata": {},
   "source": [
    "# 民事纠纷"
   ]
  },
  {
   "cell_type": "code",
   "execution_count": 76,
   "id": "a7518943",
   "metadata": {
    "ExecuteTime": {
     "end_time": "2023-05-17T08:53:20.131465Z",
     "start_time": "2023-05-17T08:53:19.641812Z"
    }
   },
   "outputs": [
    {
     "data": {
      "text/html": [
       "<div>\n",
       "<style scoped>\n",
       "    .dataframe tbody tr th:only-of-type {\n",
       "        vertical-align: middle;\n",
       "    }\n",
       "\n",
       "    .dataframe tbody tr th {\n",
       "        vertical-align: top;\n",
       "    }\n",
       "\n",
       "    .dataframe thead th {\n",
       "        text-align: right;\n",
       "    }\n",
       "</style>\n",
       "<table border=\"1\" class=\"dataframe\">\n",
       "  <thead>\n",
       "    <tr style=\"text-align: right;\">\n",
       "      <th></th>\n",
       "      <th>JudgeAccusation</th>\n",
       "      <th>cat_1</th>\n",
       "      <th>cat_2</th>\n",
       "    </tr>\n",
       "  </thead>\n",
       "  <tbody>\n",
       "    <tr>\n",
       "      <th>12</th>\n",
       "      <td>诉讼请求：1.被告依《消费者权益保护法》赔偿原告11280元；2.被告承担本案诉讼费。事实和...</td>\n",
       "      <td>民事纠纷</td>\n",
       "      <td>产品责任</td>\n",
       "    </tr>\n",
       "    <tr>\n",
       "      <th>21</th>\n",
       "      <td>14年8月31日，原告与第三人签订芬阁儿美甲店铺转让协议1份，约定：第三人将位于迪荡新城湖滨...</td>\n",
       "      <td>民事纠纷</td>\n",
       "      <td>物权纠纷</td>\n",
       "    </tr>\n",
       "    <tr>\n",
       "      <th>22</th>\n",
       "      <td>办事处向本院提出诉讼请求：1、依法判令被告立即腾退并自行拆除位于三孔桥村（）坝组（路）的房屋...</td>\n",
       "      <td>民事纠纷</td>\n",
       "      <td>物权纠纷</td>\n",
       "    </tr>\n",
       "    <tr>\n",
       "      <th>29</th>\n",
       "      <td>、娄正华与被告王位军、第三人王振国侵权责任纠纷一案中，本院于2021年2月1日立案。原告李加...</td>\n",
       "      <td>民事纠纷</td>\n",
       "      <td>侵权纠纷</td>\n",
       "    </tr>\n",
       "    <tr>\n",
       "      <th>42</th>\n",
       "      <td>诉讼请求：1.请求法院判令被告对（2019）黑0229民初116号及（2020）黑02民终1...</td>\n",
       "      <td>民事纠纷</td>\n",
       "      <td>人格隐私</td>\n",
       "    </tr>\n",
       "    <tr>\n",
       "      <th>...</th>\n",
       "      <td>...</td>\n",
       "      <td>...</td>\n",
       "      <td>...</td>\n",
       "    </tr>\n",
       "    <tr>\n",
       "      <th>431065</th>\n",
       "      <td>金钻广场承包柜台经营服装生意，因法定代表人刘录林女儿与原告发生矛盾，被告于2017年5月28...</td>\n",
       "      <td>民事纠纷</td>\n",
       "      <td>物权纠纷</td>\n",
       "    </tr>\n",
       "    <tr>\n",
       "      <th>431067</th>\n",
       "      <td>求，要求判令被告将北京市平谷区镇村路号院（以下简称号院）外东侧所建的车库清除。事实及理由：原...</td>\n",
       "      <td>民事纠纷</td>\n",
       "      <td>物权纠纷</td>\n",
       "    </tr>\n",
       "    <tr>\n",
       "      <th>431072</th>\n",
       "      <td>讼请求：1、判令被告支付因交通肇事造成原告住院医疗费用5329.96元、误工费1300元、护...</td>\n",
       "      <td>民事纠纷</td>\n",
       "      <td>侵权纠纷</td>\n",
       "    </tr>\n",
       "    <tr>\n",
       "      <th>431084</th>\n",
       "      <td>诉讼请求：1、判令被告赔偿原告医疗费4533.81元、住院伙食补助费200元、护理费229....</td>\n",
       "      <td>民事纠纷</td>\n",
       "      <td>侵权纠纷</td>\n",
       "    </tr>\n",
       "    <tr>\n",
       "      <th>431106</th>\n",
       "      <td>求：1.依法确认被告陈兆济与被告段立民签订的《房屋转让协议》无效；2.判令被告段立民立即搬离...</td>\n",
       "      <td>民事纠纷</td>\n",
       "      <td>物权纠纷</td>\n",
       "    </tr>\n",
       "  </tbody>\n",
       "</table>\n",
       "<p>44060 rows × 3 columns</p>\n",
       "</div>"
      ],
      "text/plain": [
       "                                          JudgeAccusation cat_1 cat_2\n",
       "12      诉讼请求：1.被告依《消费者权益保护法》赔偿原告11280元；2.被告承担本案诉讼费。事实和...  民事纠纷  产品责任\n",
       "21      14年8月31日，原告与第三人签订芬阁儿美甲店铺转让协议1份，约定：第三人将位于迪荡新城湖滨...  民事纠纷  物权纠纷\n",
       "22      办事处向本院提出诉讼请求：1、依法判令被告立即腾退并自行拆除位于三孔桥村（）坝组（路）的房屋...  民事纠纷  物权纠纷\n",
       "29      、娄正华与被告王位军、第三人王振国侵权责任纠纷一案中，本院于2021年2月1日立案。原告李加...  民事纠纷  侵权纠纷\n",
       "42      诉讼请求：1.请求法院判令被告对（2019）黑0229民初116号及（2020）黑02民终1...  民事纠纷  人格隐私\n",
       "...                                                   ...   ...   ...\n",
       "431065  金钻广场承包柜台经营服装生意，因法定代表人刘录林女儿与原告发生矛盾，被告于2017年5月28...  民事纠纷  物权纠纷\n",
       "431067  求，要求判令被告将北京市平谷区镇村路号院（以下简称号院）外东侧所建的车库清除。事实及理由：原...  民事纠纷  物权纠纷\n",
       "431072  讼请求：1、判令被告支付因交通肇事造成原告住院医疗费用5329.96元、误工费1300元、护...  民事纠纷  侵权纠纷\n",
       "431084  诉讼请求：1、判令被告赔偿原告医疗费4533.81元、住院伙食补助费200元、护理费229....  民事纠纷  侵权纠纷\n",
       "431106  求：1.依法确认被告陈兆济与被告段立民签订的《房屋转让协议》无效；2.判令被告段立民立即搬离...  民事纠纷  物权纠纷\n",
       "\n",
       "[44060 rows x 3 columns]"
      ]
     },
     "execution_count": 76,
     "metadata": {},
     "output_type": "execute_result"
    }
   ],
   "source": [
    "df6 = df_group.get_group('民事纠纷')\n",
    "df6"
   ]
  },
  {
   "cell_type": "code",
   "execution_count": 77,
   "id": "15857d72",
   "metadata": {
    "ExecuteTime": {
     "end_time": "2023-05-17T08:53:22.233594Z",
     "start_time": "2023-05-17T08:53:22.204068Z"
    }
   },
   "outputs": [
    {
     "data": {
      "text/plain": [
       "{'产品责任': 0, '人格隐私': 1, '人身侵权': 2, '侵权纠纷': 3, '物权纠纷': 4}"
      ]
     },
     "execution_count": 77,
     "metadata": {},
     "output_type": "execute_result"
    }
   ],
   "source": [
    "label2id_6 = {v:k for k, v in dict(enumerate(np.unique(df6['cat_2']))).items()}\n",
    "label2id_6"
   ]
  },
  {
   "cell_type": "code",
   "execution_count": 78,
   "id": "7265e990",
   "metadata": {
    "ExecuteTime": {
     "end_time": "2023-05-17T08:53:22.811035Z",
     "start_time": "2023-05-17T08:53:22.749715Z"
    }
   },
   "outputs": [],
   "source": [
    "# total\n",
    "df6_total = pd.DataFrame(zip(df6.iloc[:, 0], df6.iloc[:, 2].apply(lambda x:label2id_6[x])))\n",
    "df6_total\n",
    "# train:test:dev = 6:2:2\n",
    "len_ = df6_total.shape[0]\n",
    "df6_train = df6_total.iloc[:int(len_*0.6)]\n",
    "df6_test = df6_total.iloc[int(len_*0.6):int(len_*0.8)]\n",
    "df6_dev = df6_total.iloc[int(len_*0.8):]"
   ]
  },
  {
   "cell_type": "code",
   "execution_count": 79,
   "id": "6db0f6f5",
   "metadata": {
    "ExecuteTime": {
     "end_time": "2023-05-17T08:53:25.131515Z",
     "start_time": "2023-05-17T08:53:24.009664Z"
    }
   },
   "outputs": [],
   "source": [
    "df6_total.to_csv(RESULT_DIR+'/group6/total.txt', sep='\\t', index=None, header=None)\n",
    "df6_train.to_csv(RESULT_DIR+'/group6/train.txt', sep='\\t', index=None, header=None)\n",
    "df6_test.to_csv(RESULT_DIR+'/group6/test.txt', sep='\\t', index=None, header=None)\n",
    "df6_dev.to_csv(RESULT_DIR+'/group6/dev.txt', sep='\\t', index=None, header=None)"
   ]
  },
  {
   "cell_type": "code",
   "execution_count": null,
   "id": "186176a6",
   "metadata": {},
   "outputs": [],
   "source": []
  },
  {
   "cell_type": "markdown",
   "id": "906326c4",
   "metadata": {},
   "source": [
    "## v2"
   ]
  },
  {
   "cell_type": "code",
   "execution_count": 80,
   "id": "98640297",
   "metadata": {
    "ExecuteTime": {
     "end_time": "2023-05-17T08:54:14.261421Z",
     "start_time": "2023-05-17T08:54:14.237421Z"
    }
   },
   "outputs": [
    {
     "data": {
      "text/html": [
       "<div>\n",
       "<style scoped>\n",
       "    .dataframe tbody tr th:only-of-type {\n",
       "        vertical-align: middle;\n",
       "    }\n",
       "\n",
       "    .dataframe tbody tr th {\n",
       "        vertical-align: top;\n",
       "    }\n",
       "\n",
       "    .dataframe thead th {\n",
       "        text-align: right;\n",
       "    }\n",
       "</style>\n",
       "<table border=\"1\" class=\"dataframe\">\n",
       "  <thead>\n",
       "    <tr style=\"text-align: right;\">\n",
       "      <th></th>\n",
       "      <th>JudgeAccusation</th>\n",
       "      <th>cat_1</th>\n",
       "      <th>cat_2</th>\n",
       "    </tr>\n",
       "  </thead>\n",
       "  <tbody>\n",
       "    <tr>\n",
       "      <th>12</th>\n",
       "      <td>诉讼请求：1.被告依《消费者权益保护法》赔偿原告11280元；2.被告承担本案诉讼费。事实和...</td>\n",
       "      <td>民事纠纷</td>\n",
       "      <td>产品责任</td>\n",
       "    </tr>\n",
       "    <tr>\n",
       "      <th>21</th>\n",
       "      <td>14年8月31日，原告与第三人签订芬阁儿美甲店铺转让协议1份，约定：第三人将位于迪荡新城湖滨...</td>\n",
       "      <td>民事纠纷</td>\n",
       "      <td>物权纠纷</td>\n",
       "    </tr>\n",
       "    <tr>\n",
       "      <th>22</th>\n",
       "      <td>办事处向本院提出诉讼请求：1、依法判令被告立即腾退并自行拆除位于三孔桥村（）坝组（路）的房屋...</td>\n",
       "      <td>民事纠纷</td>\n",
       "      <td>物权纠纷</td>\n",
       "    </tr>\n",
       "    <tr>\n",
       "      <th>29</th>\n",
       "      <td>、娄正华与被告王位军、第三人王振国侵权责任纠纷一案中，本院于2021年2月1日立案。原告李加...</td>\n",
       "      <td>民事纠纷</td>\n",
       "      <td>侵权纠纷</td>\n",
       "    </tr>\n",
       "    <tr>\n",
       "      <th>42</th>\n",
       "      <td>诉讼请求：1.请求法院判令被告对（2019）黑0229民初116号及（2020）黑02民终1...</td>\n",
       "      <td>民事纠纷</td>\n",
       "      <td>人格隐私</td>\n",
       "    </tr>\n",
       "    <tr>\n",
       "      <th>...</th>\n",
       "      <td>...</td>\n",
       "      <td>...</td>\n",
       "      <td>...</td>\n",
       "    </tr>\n",
       "    <tr>\n",
       "      <th>431065</th>\n",
       "      <td>金钻广场承包柜台经营服装生意，因法定代表人刘录林女儿与原告发生矛盾，被告于2017年5月28...</td>\n",
       "      <td>民事纠纷</td>\n",
       "      <td>物权纠纷</td>\n",
       "    </tr>\n",
       "    <tr>\n",
       "      <th>431067</th>\n",
       "      <td>求，要求判令被告将北京市平谷区镇村路号院（以下简称号院）外东侧所建的车库清除。事实及理由：原...</td>\n",
       "      <td>民事纠纷</td>\n",
       "      <td>物权纠纷</td>\n",
       "    </tr>\n",
       "    <tr>\n",
       "      <th>431072</th>\n",
       "      <td>讼请求：1、判令被告支付因交通肇事造成原告住院医疗费用5329.96元、误工费1300元、护...</td>\n",
       "      <td>民事纠纷</td>\n",
       "      <td>侵权纠纷</td>\n",
       "    </tr>\n",
       "    <tr>\n",
       "      <th>431084</th>\n",
       "      <td>诉讼请求：1、判令被告赔偿原告医疗费4533.81元、住院伙食补助费200元、护理费229....</td>\n",
       "      <td>民事纠纷</td>\n",
       "      <td>侵权纠纷</td>\n",
       "    </tr>\n",
       "    <tr>\n",
       "      <th>431106</th>\n",
       "      <td>求：1.依法确认被告陈兆济与被告段立民签订的《房屋转让协议》无效；2.判令被告段立民立即搬离...</td>\n",
       "      <td>民事纠纷</td>\n",
       "      <td>物权纠纷</td>\n",
       "    </tr>\n",
       "  </tbody>\n",
       "</table>\n",
       "<p>44060 rows × 3 columns</p>\n",
       "</div>"
      ],
      "text/plain": [
       "                                          JudgeAccusation cat_1 cat_2\n",
       "12      诉讼请求：1.被告依《消费者权益保护法》赔偿原告11280元；2.被告承担本案诉讼费。事实和...  民事纠纷  产品责任\n",
       "21      14年8月31日，原告与第三人签订芬阁儿美甲店铺转让协议1份，约定：第三人将位于迪荡新城湖滨...  民事纠纷  物权纠纷\n",
       "22      办事处向本院提出诉讼请求：1、依法判令被告立即腾退并自行拆除位于三孔桥村（）坝组（路）的房屋...  民事纠纷  物权纠纷\n",
       "29      、娄正华与被告王位军、第三人王振国侵权责任纠纷一案中，本院于2021年2月1日立案。原告李加...  民事纠纷  侵权纠纷\n",
       "42      诉讼请求：1.请求法院判令被告对（2019）黑0229民初116号及（2020）黑02民终1...  民事纠纷  人格隐私\n",
       "...                                                   ...   ...   ...\n",
       "431065  金钻广场承包柜台经营服装生意，因法定代表人刘录林女儿与原告发生矛盾，被告于2017年5月28...  民事纠纷  物权纠纷\n",
       "431067  求，要求判令被告将北京市平谷区镇村路号院（以下简称号院）外东侧所建的车库清除。事实及理由：原...  民事纠纷  物权纠纷\n",
       "431072  讼请求：1、判令被告支付因交通肇事造成原告住院医疗费用5329.96元、误工费1300元、护...  民事纠纷  侵权纠纷\n",
       "431084  诉讼请求：1、判令被告赔偿原告医疗费4533.81元、住院伙食补助费200元、护理费229....  民事纠纷  侵权纠纷\n",
       "431106  求：1.依法确认被告陈兆济与被告段立民签订的《房屋转让协议》无效；2.判令被告段立民立即搬离...  民事纠纷  物权纠纷\n",
       "\n",
       "[44060 rows x 3 columns]"
      ]
     },
     "execution_count": 80,
     "metadata": {},
     "output_type": "execute_result"
    }
   ],
   "source": [
    "df6 = df_group.get_group('民事纠纷')\n",
    "df6"
   ]
  },
  {
   "cell_type": "code",
   "execution_count": 81,
   "id": "1092e32b",
   "metadata": {
    "ExecuteTime": {
     "end_time": "2023-05-17T08:54:14.932538Z",
     "start_time": "2023-05-17T08:54:14.923857Z"
    }
   },
   "outputs": [
    {
     "data": {
      "text/plain": [
       "{'产品责任': 0, '人格隐私': 1, '人身侵权': 2, '侵权纠纷': 2, '物权纠纷': 3}"
      ]
     },
     "execution_count": 81,
     "metadata": {},
     "output_type": "execute_result"
    }
   ],
   "source": [
    "label2id_6_v2 = {'产品责任': 0, '人格隐私': 1, '人身侵权': 2, '侵权纠纷': 2, '物权纠纷': 3}\n",
    "label2id_6_v2"
   ]
  },
  {
   "cell_type": "code",
   "execution_count": 82,
   "id": "56319ae8",
   "metadata": {
    "ExecuteTime": {
     "end_time": "2023-05-17T08:54:15.817228Z",
     "start_time": "2023-05-17T08:54:15.757922Z"
    }
   },
   "outputs": [],
   "source": [
    "# total\n",
    "df6_total_v2 = pd.DataFrame(zip(df6.iloc[:, 0], df6.iloc[:, 2].apply(lambda x:label2id_6_v2[x])))\n",
    "df6_total_v2\n",
    "# train:test:dev = 6:2:2\n",
    "len_ = df6_total_v2.shape[0]\n",
    "df6_train_v2 = df6_total_v2.iloc[:int(len_*0.6)]\n",
    "df6_test_v2 = df6_total_v2.iloc[int(len_*0.6):int(len_*0.8)]\n",
    "df6_dev_v2 = df6_total_v2.iloc[int(len_*0.8):]"
   ]
  },
  {
   "cell_type": "code",
   "execution_count": 83,
   "id": "5b866100",
   "metadata": {
    "ExecuteTime": {
     "end_time": "2023-05-17T08:54:17.798855Z",
     "start_time": "2023-05-17T08:54:17.051747Z"
    }
   },
   "outputs": [],
   "source": [
    "with open(RESULT_DIR+'group6/v2/class.txt', 'w', encoding='utf-8') as f:\n",
    "    f.write('产品责任\\n')\n",
    "    f.write('人格隐私\\n')\n",
    "    f.write('侵权问题\\n')\n",
    "    f.write('物权纠纷\\n')\n",
    "    \n",
    "df6_total_v2.to_csv(RESULT_DIR+'group6/v2/total.txt', sep='\\t', index=None, header=None)\n",
    "df6_train_v2.to_csv(RESULT_DIR+'group6/v2/train.txt', sep='\\t', index=None, header=None)\n",
    "df6_test_v2.to_csv(RESULT_DIR+'group6/v2/test.txt', sep='\\t', index=None, header=None)\n",
    "df6_dev_v2.to_csv(RESULT_DIR+'group6/v2/dev.txt', sep='\\t', index=None, header=None)"
   ]
  },
  {
   "cell_type": "markdown",
   "id": "54062b9e",
   "metadata": {},
   "source": [
    "## v3"
   ]
  },
  {
   "cell_type": "code",
   "execution_count": 98,
   "id": "b43f27a6",
   "metadata": {
    "ExecuteTime": {
     "end_time": "2023-05-18T09:39:32.546869Z",
     "start_time": "2023-05-18T09:39:30.649774Z"
    }
   },
   "outputs": [
    {
     "data": {
      "text/html": [
       "<div>\n",
       "<style scoped>\n",
       "    .dataframe tbody tr th:only-of-type {\n",
       "        vertical-align: middle;\n",
       "    }\n",
       "\n",
       "    .dataframe tbody tr th {\n",
       "        vertical-align: top;\n",
       "    }\n",
       "\n",
       "    .dataframe thead th {\n",
       "        text-align: right;\n",
       "    }\n",
       "</style>\n",
       "<table border=\"1\" class=\"dataframe\">\n",
       "  <thead>\n",
       "    <tr style=\"text-align: right;\">\n",
       "      <th></th>\n",
       "      <th>JudgeAccusation</th>\n",
       "      <th>cat_1</th>\n",
       "      <th>cat_2</th>\n",
       "    </tr>\n",
       "  </thead>\n",
       "  <tbody>\n",
       "    <tr>\n",
       "      <th>29</th>\n",
       "      <td>、娄正华与被告王位军、第三人王振国侵权责任纠纷一案中，本院于2021年2月1日立案。原告李加...</td>\n",
       "      <td>民事纠纷</td>\n",
       "      <td>侵权纠纷</td>\n",
       "    </tr>\n",
       "    <tr>\n",
       "      <th>70</th>\n",
       "      <td>诉讼请求：一、要求被告给付人身损害赔偿金30000.00元，并自2018年10月20日起至还...</td>\n",
       "      <td>民事纠纷</td>\n",
       "      <td>人身侵权</td>\n",
       "    </tr>\n",
       "    <tr>\n",
       "      <th>121</th>\n",
       "      <td>诉讼请求：1、依法判令被告支付各项损失共计46944.33元（医疗费10565.33元、住院...</td>\n",
       "      <td>民事纠纷</td>\n",
       "      <td>侵权纠纷</td>\n",
       "    </tr>\n",
       "    <tr>\n",
       "      <th>142</th>\n",
       "      <td>求：1、判令被告赔偿原告医疗费34887.17元、误工费30066元、护理费6121.5元、...</td>\n",
       "      <td>民事纠纷</td>\n",
       "      <td>人身侵权</td>\n",
       "    </tr>\n",
       "    <tr>\n",
       "      <th>197</th>\n",
       "      <td>请求：1、请求人民法院判决被告赔偿原告医疗费、误工费、护理费、住院伙食补助费、交通费、营养费...</td>\n",
       "      <td>民事纠纷</td>\n",
       "      <td>人身侵权</td>\n",
       "    </tr>\n",
       "    <tr>\n",
       "      <th>...</th>\n",
       "      <td>...</td>\n",
       "      <td>...</td>\n",
       "      <td>...</td>\n",
       "    </tr>\n",
       "    <tr>\n",
       "      <th>430985</th>\n",
       "      <td>出诉讼请求：1、依法判令二被告赔偿原告所有经济损失103713元；2、本案的一切诉讼费由两被...</td>\n",
       "      <td>民事纠纷</td>\n",
       "      <td>侵权纠纷</td>\n",
       "    </tr>\n",
       "    <tr>\n",
       "      <th>431054</th>\n",
       "      <td>请求判令：1.卢幼平、常德柳叶湖旅游度假区白鹤镇中学、刘明、刘某、常德华柳校车服务有限公司赔...</td>\n",
       "      <td>民事纠纷</td>\n",
       "      <td>侵权纠纷</td>\n",
       "    </tr>\n",
       "    <tr>\n",
       "      <th>431058</th>\n",
       "      <td>诉讼请求：1、判令二被告立即停止侵权、排除妨害，并赔偿原告损失103300元；2、判令本案诉...</td>\n",
       "      <td>民事纠纷</td>\n",
       "      <td>侵权纠纷</td>\n",
       "    </tr>\n",
       "    <tr>\n",
       "      <th>431072</th>\n",
       "      <td>讼请求：1、判令被告支付因交通肇事造成原告住院医疗费用5329.96元、误工费1300元、护...</td>\n",
       "      <td>民事纠纷</td>\n",
       "      <td>侵权纠纷</td>\n",
       "    </tr>\n",
       "    <tr>\n",
       "      <th>431084</th>\n",
       "      <td>诉讼请求：1、判令被告赔偿原告医疗费4533.81元、住院伙食补助费200元、护理费229....</td>\n",
       "      <td>民事纠纷</td>\n",
       "      <td>侵权纠纷</td>\n",
       "    </tr>\n",
       "  </tbody>\n",
       "</table>\n",
       "<p>6691 rows × 3 columns</p>\n",
       "</div>"
      ],
      "text/plain": [
       "                                          JudgeAccusation cat_1 cat_2\n",
       "29      、娄正华与被告王位军、第三人王振国侵权责任纠纷一案中，本院于2021年2月1日立案。原告李加...  民事纠纷  侵权纠纷\n",
       "70      诉讼请求：一、要求被告给付人身损害赔偿金30000.00元，并自2018年10月20日起至还...  民事纠纷  人身侵权\n",
       "121     诉讼请求：1、依法判令被告支付各项损失共计46944.33元（医疗费10565.33元、住院...  民事纠纷  侵权纠纷\n",
       "142     求：1、判令被告赔偿原告医疗费34887.17元、误工费30066元、护理费6121.5元、...  民事纠纷  人身侵权\n",
       "197     请求：1、请求人民法院判决被告赔偿原告医疗费、误工费、护理费、住院伙食补助费、交通费、营养费...  民事纠纷  人身侵权\n",
       "...                                                   ...   ...   ...\n",
       "430985  出诉讼请求：1、依法判令二被告赔偿原告所有经济损失103713元；2、本案的一切诉讼费由两被...  民事纠纷  侵权纠纷\n",
       "431054  请求判令：1.卢幼平、常德柳叶湖旅游度假区白鹤镇中学、刘明、刘某、常德华柳校车服务有限公司赔...  民事纠纷  侵权纠纷\n",
       "431058  诉讼请求：1、判令二被告立即停止侵权、排除妨害，并赔偿原告损失103300元；2、判令本案诉...  民事纠纷  侵权纠纷\n",
       "431072  讼请求：1、判令被告支付因交通肇事造成原告住院医疗费用5329.96元、误工费1300元、护...  民事纠纷  侵权纠纷\n",
       "431084  诉讼请求：1、判令被告赔偿原告医疗费4533.81元、住院伙食补助费200元、护理费229....  民事纠纷  侵权纠纷\n",
       "\n",
       "[6691 rows x 3 columns]"
      ]
     },
     "execution_count": 98,
     "metadata": {},
     "output_type": "execute_result"
    }
   ],
   "source": [
    "df6 = df_group.get_group('民事纠纷')\n",
    "df6 = df6[(df6['cat_2'] == '人身侵权')|(df6['cat_2'] == '侵权纠纷')]\n",
    "df6"
   ]
  },
  {
   "cell_type": "code",
   "execution_count": 99,
   "id": "bb8e7997",
   "metadata": {
    "ExecuteTime": {
     "end_time": "2023-05-18T09:39:38.926857Z",
     "start_time": "2023-05-18T09:39:38.912860Z"
    }
   },
   "outputs": [
    {
     "data": {
      "text/plain": [
       "{'人身侵权': 0, '侵权纠纷': 1}"
      ]
     },
     "execution_count": 99,
     "metadata": {},
     "output_type": "execute_result"
    }
   ],
   "source": [
    "label2id_6_v3 = {'人身侵权': 0, '侵权纠纷': 1}\n",
    "label2id_6_v3"
   ]
  },
  {
   "cell_type": "code",
   "execution_count": 100,
   "id": "7cffd110",
   "metadata": {
    "ExecuteTime": {
     "end_time": "2023-05-18T09:39:41.798912Z",
     "start_time": "2023-05-18T09:39:41.780912Z"
    }
   },
   "outputs": [],
   "source": [
    "# total\n",
    "df6_total_v3 = pd.DataFrame(zip(df6.iloc[:, 0], df6.iloc[:, 2].apply(lambda x:label2id_6_v3[x])))\n",
    "df6_total_v3\n",
    "# train:test:dev = 6:2:2\n",
    "len_ = df6_total_v3.shape[0]\n",
    "df6_train_v3 = df6_total_v3.iloc[:int(len_*0.6)]\n",
    "df6_test_v3 = df6_total_v3.iloc[int(len_*0.6):int(len_*0.8)]\n",
    "df6_dev_v3 = df6_total_v3.iloc[int(len_*0.8):]"
   ]
  },
  {
   "cell_type": "code",
   "execution_count": 102,
   "id": "5e38b309",
   "metadata": {
    "ExecuteTime": {
     "end_time": "2023-05-18T09:40:02.034445Z",
     "start_time": "2023-05-18T09:40:01.872995Z"
    }
   },
   "outputs": [],
   "source": [
    "with open(RESULT_DIR+'group6/v2/v3/class.txt', 'w', encoding='utf-8') as f:\n",
    "    f.write('人身侵权\\n')\n",
    "    f.write('侵权纠纷\\n')\n",
    "    \n",
    "df6_total_v3.to_csv(RESULT_DIR+'group6/v2/v3/total.txt', sep='\\t', index=None, header=None)\n",
    "df6_train_v3.to_csv(RESULT_DIR+'group6/v2/v3/train.txt', sep='\\t', index=None, header=None)\n",
    "df6_test_v3.to_csv(RESULT_DIR+'group6/v2/v3/test.txt', sep='\\t', index=None, header=None)\n",
    "df6_dev_v3.to_csv(RESULT_DIR+'group6/v2/v3/dev.txt', sep='\\t', index=None, header=None)"
   ]
  },
  {
   "cell_type": "code",
   "execution_count": null,
   "id": "b7a29480",
   "metadata": {},
   "outputs": [],
   "source": []
  },
  {
   "cell_type": "code",
   "execution_count": null,
   "id": "016b607d",
   "metadata": {},
   "outputs": [],
   "source": []
  },
  {
   "cell_type": "markdown",
   "id": "40ca42d2",
   "metadata": {},
   "source": [
    "# 构造预测集"
   ]
  },
  {
   "cell_type": "code",
   "execution_count": 45,
   "id": "cc6a3465",
   "metadata": {
    "ExecuteTime": {
     "end_time": "2023-05-17T06:06:36.564116Z",
     "start_time": "2023-05-17T06:06:33.834650Z"
    }
   },
   "outputs": [],
   "source": [
    "df_train_pred = pd.read_excel(RESULT_DIR+'v1/train_cat1_pred.xlsx')\n",
    "df_dev_pred = pd.read_excel(RESULT_DIR+'v1/dev_cat1_pred.xlsx')"
   ]
  },
  {
   "cell_type": "code",
   "execution_count": 46,
   "id": "042bf593",
   "metadata": {
    "ExecuteTime": {
     "end_time": "2023-05-17T06:06:39.738177Z",
     "start_time": "2023-05-17T06:06:39.722175Z"
    }
   },
   "outputs": [],
   "source": [
    "df_group1 = df_train_pred.groupby('cat_1_pred')\n",
    "df_group2 = df_dev_pred.groupby('cat_1_pred')"
   ]
  },
  {
   "cell_type": "code",
   "execution_count": 61,
   "id": "32527a36",
   "metadata": {
    "ExecuteTime": {
     "end_time": "2023-05-13T15:16:00.071989Z",
     "start_time": "2023-05-13T15:15:59.802645Z"
    }
   },
   "outputs": [],
   "source": [
    "# train-test\n",
    "cat1_lst = ['公司事务', '劳动人事', '合同事务', '婚姻家庭', '房地产纠纷', '民事纠纷']\n",
    "for idx, label in enumerate(cat1_lst):\n",
    "    df_group1.get_group(label)[['q_id', 'query']].to_csv(RESULT_DIR+'group{}/train_test_pred.csv'.format(idx+1),\n",
    "                                                        encoding='utf_8_sig', index=None)\n",
    "# dev\n",
    "for idx, label in enumerate(cat1_lst):\n",
    "    df_group2.get_group(label)[['q_id', 'query']].to_csv(RESULT_DIR+'group{}/dev_pred.csv'.format(idx+1),\n",
    "                                                        encoding='utf_8_sig', index=None)"
   ]
  },
  {
   "cell_type": "code",
   "execution_count": null,
   "id": "bae2ac5e",
   "metadata": {},
   "outputs": [],
   "source": []
  }
 ],
 "metadata": {
  "kernelspec": {
   "display_name": "Python 3 (ipykernel)",
   "language": "python",
   "name": "python3"
  },
  "language_info": {
   "codemirror_mode": {
    "name": "ipython",
    "version": 3
   },
   "file_extension": ".py",
   "mimetype": "text/x-python",
   "name": "python",
   "nbconvert_exporter": "python",
   "pygments_lexer": "ipython3",
   "version": "3.9.7"
  },
  "toc": {
   "base_numbering": 1,
   "nav_menu": {},
   "number_sections": true,
   "sideBar": true,
   "skip_h1_title": false,
   "title_cell": "Table of Contents",
   "title_sidebar": "Contents",
   "toc_cell": false,
   "toc_position": {
    "height": "calc(100% - 180px)",
    "left": "10px",
    "top": "150px",
    "width": "287.865px"
   },
   "toc_section_display": true,
   "toc_window_display": true
  },
  "varInspector": {
   "cols": {
    "lenName": 16,
    "lenType": 16,
    "lenVar": 40
   },
   "kernels_config": {
    "python": {
     "delete_cmd_postfix": "",
     "delete_cmd_prefix": "del ",
     "library": "var_list.py",
     "varRefreshCmd": "print(var_dic_list())"
    },
    "r": {
     "delete_cmd_postfix": ") ",
     "delete_cmd_prefix": "rm(",
     "library": "var_list.r",
     "varRefreshCmd": "cat(var_dic_list()) "
    }
   },
   "types_to_exclude": [
    "module",
    "function",
    "builtin_function_or_method",
    "instance",
    "_Feature"
   ],
   "window_display": false
  }
 },
 "nbformat": 4,
 "nbformat_minor": 5
}
