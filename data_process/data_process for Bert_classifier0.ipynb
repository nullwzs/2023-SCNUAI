{
 "cells": [
  {
   "cell_type": "code",
   "execution_count": 1,
   "id": "b8c93806",
   "metadata": {
    "ExecuteTime": {
     "end_time": "2023-05-16T07:22:40.624017Z",
     "start_time": "2023-05-16T07:22:40.034585Z"
    }
   },
   "outputs": [],
   "source": [
    "import pandas as pd \n",
    "import numpy as np\n",
    "import os, json"
   ]
  },
  {
   "cell_type": "code",
   "execution_count": 4,
   "id": "e8871bd3",
   "metadata": {
    "ExecuteTime": {
     "end_time": "2023-05-16T07:22:49.047334Z",
     "start_time": "2023-05-16T07:22:49.023008Z"
    }
   },
   "outputs": [],
   "source": [
    "DATA_DIR = './dataset/wenshu_ms_dataset/'\n",
    "TRAIN_DIR = DATA_DIR + \"train/\"\n",
    "TEST_DIR = DATA_DIR + \"test/\"\n",
    "DEV_DIR = DATA_DIR + \"dev/\"\n",
    "\n",
    "TRAIN_FILES = sorted(os.listdir(TRAIN_DIR), key=lambda x:int(x[:-5]))\n",
    "TEST_FILES = sorted(os.listdir(TEST_DIR), key=lambda x:int(x[:-5]))\n",
    "DEV_FILES = sorted(os.listdir(DEV_DIR), key=lambda x:int(x[:-5]))"
   ]
  },
  {
   "cell_type": "code",
   "execution_count": 31,
   "id": "7f755590",
   "metadata": {
    "ExecuteTime": {
     "end_time": "2023-05-16T07:52:06.285812Z",
     "start_time": "2023-05-16T07:52:06.276805Z"
    }
   },
   "outputs": [
    {
     "data": {
      "text/plain": [
       "{'交通事故': 0,\n",
       " '公司事务': 1,\n",
       " '劳动人事': 2,\n",
       " '合同事务': 3,\n",
       " '婚姻家庭': 4,\n",
       " '建筑工程': 5,\n",
       " '房地产纠纷': 6,\n",
       " '民事纠纷': 7,\n",
       " '知识产权': 8,\n",
       " '金融证券保险': 9}"
      ]
     },
     "execution_count": 31,
     "metadata": {},
     "output_type": "execute_result"
    }
   ],
   "source": [
    "hash_dict = {\n",
    "    0: '交通事故',\n",
    "    1: '公司事务',\n",
    "    2: '劳动人事',\n",
    "    3: '合同事务',\n",
    "    4: '婚姻家庭',\n",
    "    5: '建筑工程',\n",
    "    6: '房地产纠纷',\n",
    "    7: '民事纠纷',\n",
    "    8: '知识产权',\n",
    "    9: '金融证券保险'\n",
    "}\n",
    "label2id = {v:k for k,v in hash_dict.items()}\n",
    "label2id"
   ]
  },
  {
   "cell_type": "markdown",
   "id": "89fb0e4c",
   "metadata": {},
   "source": [
    "# dev"
   ]
  },
  {
   "cell_type": "code",
   "execution_count": 58,
   "id": "835e8428",
   "metadata": {
    "ExecuteTime": {
     "end_time": "2023-05-16T08:10:14.899520Z",
     "start_time": "2023-05-16T08:09:58.519395Z"
    }
   },
   "outputs": [
    {
     "name": "stderr",
     "output_type": "stream",
     "text": [
      "100%|█████████████████████████████████████████████████████████████████████████████| 4500/4500 [00:15<00:00, 295.59it/s]\n"
     ]
    }
   ],
   "source": [
    "from tqdm import trange\n",
    "res_lst = []\n",
    "for filename in tqdm(DEV_FILES):\n",
    "    tmp_lst = []\n",
    "    with open(DEV_DIR+filename, 'r', encoding='utf-8') as f:\n",
    "        js_dt = json.load(f)\n",
    "        q_id = js_dt['q_id']\n",
    "        query = js_dt['query'].strip().replace('\\n', '')\n",
    "        for k in range(100):\n",
    "            c_id = k\n",
    "            acc = js_dt['ctxs'][str(k)]['JudgeAccusation'].strip().replace('\\n', '')\n",
    "            cat1 = js_dt['ctxs'][str(k)]['Category']['cat_1']\n",
    "            tmp_lst.append([q_id, c_id, query, acc, cat1])\n",
    "        res_lst.append(tmp_lst)"
   ]
  },
  {
   "cell_type": "code",
   "execution_count": 59,
   "id": "1e0d2eca",
   "metadata": {
    "ExecuteTime": {
     "end_time": "2023-05-16T08:10:27.586929Z",
     "start_time": "2023-05-16T08:10:20.383848Z"
    }
   },
   "outputs": [
    {
     "data": {
      "text/html": [
       "<div>\n",
       "<style scoped>\n",
       "    .dataframe tbody tr th:only-of-type {\n",
       "        vertical-align: middle;\n",
       "    }\n",
       "\n",
       "    .dataframe tbody tr th {\n",
       "        vertical-align: top;\n",
       "    }\n",
       "\n",
       "    .dataframe thead th {\n",
       "        text-align: right;\n",
       "    }\n",
       "</style>\n",
       "<table border=\"1\" class=\"dataframe\">\n",
       "  <thead>\n",
       "    <tr style=\"text-align: right;\">\n",
       "      <th></th>\n",
       "      <th>q_id</th>\n",
       "      <th>c_id</th>\n",
       "      <th>query</th>\n",
       "      <th>acc</th>\n",
       "      <th>cat_1</th>\n",
       "    </tr>\n",
       "  </thead>\n",
       "  <tbody>\n",
       "    <tr>\n",
       "      <th>0</th>\n",
       "      <td>10681</td>\n",
       "      <td>0</td>\n",
       "      <td>原告李娟向本院提出诉讼请求：1、判令被告赔偿原告1000元；2、诉讼费由被告承担。事实及理由...</td>\n",
       "      <td>原告李怀玉诉称，2002年11月22日原告与被告签订《房屋销售合同》，原告购买被告房屋一套，...</td>\n",
       "      <td>民事纠纷</td>\n",
       "    </tr>\n",
       "    <tr>\n",
       "      <th>1</th>\n",
       "      <td>10681</td>\n",
       "      <td>1</td>\n",
       "      <td>原告李娟向本院提出诉讼请求：1、判令被告赔偿原告1000元；2、诉讼费由被告承担。事实及理由...</td>\n",
       "      <td>原告聂化明向法院提出诉讼请求：判令被告叶顺有向原告聂化明偿还赔偿款12000元，并承担本案诉...</td>\n",
       "      <td>民事纠纷</td>\n",
       "    </tr>\n",
       "    <tr>\n",
       "      <th>2</th>\n",
       "      <td>10681</td>\n",
       "      <td>2</td>\n",
       "      <td>原告李娟向本院提出诉讼请求：1、判令被告赔偿原告1000元；2、诉讼费由被告承担。事实及理由...</td>\n",
       "      <td>原告胡勇向本院提出诉讼请求：1、判令被告赔偿原告1000元；2、诉讼费由被告承担。事实及理由...</td>\n",
       "      <td>民事纠纷</td>\n",
       "    </tr>\n",
       "    <tr>\n",
       "      <th>3</th>\n",
       "      <td>10681</td>\n",
       "      <td>3</td>\n",
       "      <td>原告李娟向本院提出诉讼请求：1、判令被告赔偿原告1000元；2、诉讼费由被告承担。事实及理由...</td>\n",
       "      <td>原告胡勇向本院提出诉讼请求：1、判令被告赔偿原告1000元；2、诉讼费由被告承担。事实及理由...</td>\n",
       "      <td>民事纠纷</td>\n",
       "    </tr>\n",
       "    <tr>\n",
       "      <th>4</th>\n",
       "      <td>10681</td>\n",
       "      <td>4</td>\n",
       "      <td>原告李娟向本院提出诉讼请求：1、判令被告赔偿原告1000元；2、诉讼费由被告承担。事实及理由...</td>\n",
       "      <td>李某1向本院提出诉讼请求：1.判令被告支付原告自2017年4月至2018年9月的抚养费合计1...</td>\n",
       "      <td>婚姻家庭</td>\n",
       "    </tr>\n",
       "    <tr>\n",
       "      <th>...</th>\n",
       "      <td>...</td>\n",
       "      <td>...</td>\n",
       "      <td>...</td>\n",
       "      <td>...</td>\n",
       "      <td>...</td>\n",
       "    </tr>\n",
       "    <tr>\n",
       "      <th>449995</th>\n",
       "      <td>15180</td>\n",
       "      <td>95</td>\n",
       "      <td>本院在审理原告榆林市榆阳区某小额贷款有限责任公司与被告李某某、张某某、李某某小额借款合同纠纷...</td>\n",
       "      <td>某某房地产开发有限责任公司向本院提出诉讼请求：1、请求依法判令被告应付原告房款200000元...</td>\n",
       "      <td>合同事务</td>\n",
       "    </tr>\n",
       "    <tr>\n",
       "      <th>449996</th>\n",
       "      <td>15180</td>\n",
       "      <td>96</td>\n",
       "      <td>本院在审理原告榆林市榆阳区某小额贷款有限责任公司与被告李某某、张某某、李某某小额借款合同纠纷...</td>\n",
       "      <td>原告李树林向本院提出诉讼请求：1.要求被告立即向原告支付劳务费8000元；2.本案诉讼费由被...</td>\n",
       "      <td>劳动人事</td>\n",
       "    </tr>\n",
       "    <tr>\n",
       "      <th>449997</th>\n",
       "      <td>15180</td>\n",
       "      <td>97</td>\n",
       "      <td>本院在审理原告榆林市榆阳区某小额贷款有限责任公司与被告李某某、张某某、李某某小额借款合同纠纷...</td>\n",
       "      <td>本院在审理原告榆林市榆阳区某小额贷款有限责任公司与被告李某某、张某某、李某某小额借款合同纠纷...</td>\n",
       "      <td>合同事务</td>\n",
       "    </tr>\n",
       "    <tr>\n",
       "      <th>449998</th>\n",
       "      <td>15180</td>\n",
       "      <td>98</td>\n",
       "      <td>本院在审理原告榆林市榆阳区某小额贷款有限责任公司与被告李某某、张某某、李某某小额借款合同纠纷...</td>\n",
       "      <td>原告苏中公司提出诉讼请求：1.确认鼎鑫公司与张新华、陈镜签订的时代名苑某门面房的商品房买卖合...</td>\n",
       "      <td>合同事务</td>\n",
       "    </tr>\n",
       "    <tr>\n",
       "      <th>449999</th>\n",
       "      <td>15180</td>\n",
       "      <td>99</td>\n",
       "      <td>本院在审理原告榆林市榆阳区某小额贷款有限责任公司与被告李某某、张某某、李某某小额借款合同纠纷...</td>\n",
       "      <td>本院在审理原告陈萍与被告刘继友、被告刘杏华合伙协议纠纷一案中，原告陈萍于2019年7月26日...</td>\n",
       "      <td>公司事务</td>\n",
       "    </tr>\n",
       "  </tbody>\n",
       "</table>\n",
       "<p>450000 rows × 5 columns</p>\n",
       "</div>"
      ],
      "text/plain": [
       "         q_id c_id                                              query  \\\n",
       "0       10681    0  原告李娟向本院提出诉讼请求：1、判令被告赔偿原告1000元；2、诉讼费由被告承担。事实及理由...   \n",
       "1       10681    1  原告李娟向本院提出诉讼请求：1、判令被告赔偿原告1000元；2、诉讼费由被告承担。事实及理由...   \n",
       "2       10681    2  原告李娟向本院提出诉讼请求：1、判令被告赔偿原告1000元；2、诉讼费由被告承担。事实及理由...   \n",
       "3       10681    3  原告李娟向本院提出诉讼请求：1、判令被告赔偿原告1000元；2、诉讼费由被告承担。事实及理由...   \n",
       "4       10681    4  原告李娟向本院提出诉讼请求：1、判令被告赔偿原告1000元；2、诉讼费由被告承担。事实及理由...   \n",
       "...       ...  ...                                                ...   \n",
       "449995  15180   95  本院在审理原告榆林市榆阳区某小额贷款有限责任公司与被告李某某、张某某、李某某小额借款合同纠纷...   \n",
       "449996  15180   96  本院在审理原告榆林市榆阳区某小额贷款有限责任公司与被告李某某、张某某、李某某小额借款合同纠纷...   \n",
       "449997  15180   97  本院在审理原告榆林市榆阳区某小额贷款有限责任公司与被告李某某、张某某、李某某小额借款合同纠纷...   \n",
       "449998  15180   98  本院在审理原告榆林市榆阳区某小额贷款有限责任公司与被告李某某、张某某、李某某小额借款合同纠纷...   \n",
       "449999  15180   99  本院在审理原告榆林市榆阳区某小额贷款有限责任公司与被告李某某、张某某、李某某小额借款合同纠纷...   \n",
       "\n",
       "                                                      acc cat_1  \n",
       "0       原告李怀玉诉称，2002年11月22日原告与被告签订《房屋销售合同》，原告购买被告房屋一套，...  民事纠纷  \n",
       "1       原告聂化明向法院提出诉讼请求：判令被告叶顺有向原告聂化明偿还赔偿款12000元，并承担本案诉...  民事纠纷  \n",
       "2       原告胡勇向本院提出诉讼请求：1、判令被告赔偿原告1000元；2、诉讼费由被告承担。事实及理由...  民事纠纷  \n",
       "3       原告胡勇向本院提出诉讼请求：1、判令被告赔偿原告1000元；2、诉讼费由被告承担。事实及理由...  民事纠纷  \n",
       "4       李某1向本院提出诉讼请求：1.判令被告支付原告自2017年4月至2018年9月的抚养费合计1...  婚姻家庭  \n",
       "...                                                   ...   ...  \n",
       "449995  某某房地产开发有限责任公司向本院提出诉讼请求：1、请求依法判令被告应付原告房款200000元...  合同事务  \n",
       "449996  原告李树林向本院提出诉讼请求：1.要求被告立即向原告支付劳务费8000元；2.本案诉讼费由被...  劳动人事  \n",
       "449997  本院在审理原告榆林市榆阳区某小额贷款有限责任公司与被告李某某、张某某、李某某小额借款合同纠纷...  合同事务  \n",
       "449998  原告苏中公司提出诉讼请求：1.确认鼎鑫公司与张新华、陈镜签订的时代名苑某门面房的商品房买卖合...  合同事务  \n",
       "449999  本院在审理原告陈萍与被告刘继友、被告刘杏华合伙协议纠纷一案中，原告陈萍于2019年7月26日...  公司事务  \n",
       "\n",
       "[450000 rows x 5 columns]"
      ]
     },
     "execution_count": 59,
     "metadata": {},
     "output_type": "execute_result"
    }
   ],
   "source": [
    "df_res = pd.DataFrame(np.array(res_lst).reshape(-1, 5), columns = ['q_id', 'c_id', 'query', 'acc', 'cat_1'])\n",
    "df_res"
   ]
  },
  {
   "cell_type": "code",
   "execution_count": 60,
   "id": "221d428e",
   "metadata": {
    "ExecuteTime": {
     "end_time": "2023-05-16T08:10:44.707513Z",
     "start_time": "2023-05-16T08:10:44.482162Z"
    }
   },
   "outputs": [
    {
     "data": {
      "text/html": [
       "<div>\n",
       "<style scoped>\n",
       "    .dataframe tbody tr th:only-of-type {\n",
       "        vertical-align: middle;\n",
       "    }\n",
       "\n",
       "    .dataframe tbody tr th {\n",
       "        vertical-align: top;\n",
       "    }\n",
       "\n",
       "    .dataframe thead th {\n",
       "        text-align: right;\n",
       "    }\n",
       "</style>\n",
       "<table border=\"1\" class=\"dataframe\">\n",
       "  <thead>\n",
       "    <tr style=\"text-align: right;\">\n",
       "      <th></th>\n",
       "      <th>q_id</th>\n",
       "      <th>c_id</th>\n",
       "      <th>query</th>\n",
       "      <th>acc</th>\n",
       "      <th>cat_1</th>\n",
       "      <th>cat_1_id</th>\n",
       "    </tr>\n",
       "  </thead>\n",
       "  <tbody>\n",
       "    <tr>\n",
       "      <th>0</th>\n",
       "      <td>10681</td>\n",
       "      <td>0</td>\n",
       "      <td>原告李娟向本院提出诉讼请求：1、判令被告赔偿原告1000元；2、诉讼费由被告承担。事实及理由...</td>\n",
       "      <td>原告李怀玉诉称，2002年11月22日原告与被告签订《房屋销售合同》，原告购买被告房屋一套，...</td>\n",
       "      <td>民事纠纷</td>\n",
       "      <td>7</td>\n",
       "    </tr>\n",
       "    <tr>\n",
       "      <th>1</th>\n",
       "      <td>10681</td>\n",
       "      <td>1</td>\n",
       "      <td>原告李娟向本院提出诉讼请求：1、判令被告赔偿原告1000元；2、诉讼费由被告承担。事实及理由...</td>\n",
       "      <td>原告聂化明向法院提出诉讼请求：判令被告叶顺有向原告聂化明偿还赔偿款12000元，并承担本案诉...</td>\n",
       "      <td>民事纠纷</td>\n",
       "      <td>7</td>\n",
       "    </tr>\n",
       "    <tr>\n",
       "      <th>2</th>\n",
       "      <td>10681</td>\n",
       "      <td>2</td>\n",
       "      <td>原告李娟向本院提出诉讼请求：1、判令被告赔偿原告1000元；2、诉讼费由被告承担。事实及理由...</td>\n",
       "      <td>原告胡勇向本院提出诉讼请求：1、判令被告赔偿原告1000元；2、诉讼费由被告承担。事实及理由...</td>\n",
       "      <td>民事纠纷</td>\n",
       "      <td>7</td>\n",
       "    </tr>\n",
       "    <tr>\n",
       "      <th>3</th>\n",
       "      <td>10681</td>\n",
       "      <td>3</td>\n",
       "      <td>原告李娟向本院提出诉讼请求：1、判令被告赔偿原告1000元；2、诉讼费由被告承担。事实及理由...</td>\n",
       "      <td>原告胡勇向本院提出诉讼请求：1、判令被告赔偿原告1000元；2、诉讼费由被告承担。事实及理由...</td>\n",
       "      <td>民事纠纷</td>\n",
       "      <td>7</td>\n",
       "    </tr>\n",
       "    <tr>\n",
       "      <th>4</th>\n",
       "      <td>10681</td>\n",
       "      <td>4</td>\n",
       "      <td>原告李娟向本院提出诉讼请求：1、判令被告赔偿原告1000元；2、诉讼费由被告承担。事实及理由...</td>\n",
       "      <td>李某1向本院提出诉讼请求：1.判令被告支付原告自2017年4月至2018年9月的抚养费合计1...</td>\n",
       "      <td>婚姻家庭</td>\n",
       "      <td>4</td>\n",
       "    </tr>\n",
       "    <tr>\n",
       "      <th>...</th>\n",
       "      <td>...</td>\n",
       "      <td>...</td>\n",
       "      <td>...</td>\n",
       "      <td>...</td>\n",
       "      <td>...</td>\n",
       "      <td>...</td>\n",
       "    </tr>\n",
       "    <tr>\n",
       "      <th>449995</th>\n",
       "      <td>15180</td>\n",
       "      <td>95</td>\n",
       "      <td>本院在审理原告榆林市榆阳区某小额贷款有限责任公司与被告李某某、张某某、李某某小额借款合同纠纷...</td>\n",
       "      <td>某某房地产开发有限责任公司向本院提出诉讼请求：1、请求依法判令被告应付原告房款200000元...</td>\n",
       "      <td>合同事务</td>\n",
       "      <td>3</td>\n",
       "    </tr>\n",
       "    <tr>\n",
       "      <th>449996</th>\n",
       "      <td>15180</td>\n",
       "      <td>96</td>\n",
       "      <td>本院在审理原告榆林市榆阳区某小额贷款有限责任公司与被告李某某、张某某、李某某小额借款合同纠纷...</td>\n",
       "      <td>原告李树林向本院提出诉讼请求：1.要求被告立即向原告支付劳务费8000元；2.本案诉讼费由被...</td>\n",
       "      <td>劳动人事</td>\n",
       "      <td>2</td>\n",
       "    </tr>\n",
       "    <tr>\n",
       "      <th>449997</th>\n",
       "      <td>15180</td>\n",
       "      <td>97</td>\n",
       "      <td>本院在审理原告榆林市榆阳区某小额贷款有限责任公司与被告李某某、张某某、李某某小额借款合同纠纷...</td>\n",
       "      <td>本院在审理原告榆林市榆阳区某小额贷款有限责任公司与被告李某某、张某某、李某某小额借款合同纠纷...</td>\n",
       "      <td>合同事务</td>\n",
       "      <td>3</td>\n",
       "    </tr>\n",
       "    <tr>\n",
       "      <th>449998</th>\n",
       "      <td>15180</td>\n",
       "      <td>98</td>\n",
       "      <td>本院在审理原告榆林市榆阳区某小额贷款有限责任公司与被告李某某、张某某、李某某小额借款合同纠纷...</td>\n",
       "      <td>原告苏中公司提出诉讼请求：1.确认鼎鑫公司与张新华、陈镜签订的时代名苑某门面房的商品房买卖合...</td>\n",
       "      <td>合同事务</td>\n",
       "      <td>3</td>\n",
       "    </tr>\n",
       "    <tr>\n",
       "      <th>449999</th>\n",
       "      <td>15180</td>\n",
       "      <td>99</td>\n",
       "      <td>本院在审理原告榆林市榆阳区某小额贷款有限责任公司与被告李某某、张某某、李某某小额借款合同纠纷...</td>\n",
       "      <td>本院在审理原告陈萍与被告刘继友、被告刘杏华合伙协议纠纷一案中，原告陈萍于2019年7月26日...</td>\n",
       "      <td>公司事务</td>\n",
       "      <td>1</td>\n",
       "    </tr>\n",
       "  </tbody>\n",
       "</table>\n",
       "<p>450000 rows × 6 columns</p>\n",
       "</div>"
      ],
      "text/plain": [
       "         q_id c_id                                              query  \\\n",
       "0       10681    0  原告李娟向本院提出诉讼请求：1、判令被告赔偿原告1000元；2、诉讼费由被告承担。事实及理由...   \n",
       "1       10681    1  原告李娟向本院提出诉讼请求：1、判令被告赔偿原告1000元；2、诉讼费由被告承担。事实及理由...   \n",
       "2       10681    2  原告李娟向本院提出诉讼请求：1、判令被告赔偿原告1000元；2、诉讼费由被告承担。事实及理由...   \n",
       "3       10681    3  原告李娟向本院提出诉讼请求：1、判令被告赔偿原告1000元；2、诉讼费由被告承担。事实及理由...   \n",
       "4       10681    4  原告李娟向本院提出诉讼请求：1、判令被告赔偿原告1000元；2、诉讼费由被告承担。事实及理由...   \n",
       "...       ...  ...                                                ...   \n",
       "449995  15180   95  本院在审理原告榆林市榆阳区某小额贷款有限责任公司与被告李某某、张某某、李某某小额借款合同纠纷...   \n",
       "449996  15180   96  本院在审理原告榆林市榆阳区某小额贷款有限责任公司与被告李某某、张某某、李某某小额借款合同纠纷...   \n",
       "449997  15180   97  本院在审理原告榆林市榆阳区某小额贷款有限责任公司与被告李某某、张某某、李某某小额借款合同纠纷...   \n",
       "449998  15180   98  本院在审理原告榆林市榆阳区某小额贷款有限责任公司与被告李某某、张某某、李某某小额借款合同纠纷...   \n",
       "449999  15180   99  本院在审理原告榆林市榆阳区某小额贷款有限责任公司与被告李某某、张某某、李某某小额借款合同纠纷...   \n",
       "\n",
       "                                                      acc cat_1  cat_1_id  \n",
       "0       原告李怀玉诉称，2002年11月22日原告与被告签订《房屋销售合同》，原告购买被告房屋一套，...  民事纠纷         7  \n",
       "1       原告聂化明向法院提出诉讼请求：判令被告叶顺有向原告聂化明偿还赔偿款12000元，并承担本案诉...  民事纠纷         7  \n",
       "2       原告胡勇向本院提出诉讼请求：1、判令被告赔偿原告1000元；2、诉讼费由被告承担。事实及理由...  民事纠纷         7  \n",
       "3       原告胡勇向本院提出诉讼请求：1、判令被告赔偿原告1000元；2、诉讼费由被告承担。事实及理由...  民事纠纷         7  \n",
       "4       李某1向本院提出诉讼请求：1.判令被告支付原告自2017年4月至2018年9月的抚养费合计1...  婚姻家庭         4  \n",
       "...                                                   ...   ...       ...  \n",
       "449995  某某房地产开发有限责任公司向本院提出诉讼请求：1、请求依法判令被告应付原告房款200000元...  合同事务         3  \n",
       "449996  原告李树林向本院提出诉讼请求：1.要求被告立即向原告支付劳务费8000元；2.本案诉讼费由被...  劳动人事         2  \n",
       "449997  本院在审理原告榆林市榆阳区某小额贷款有限责任公司与被告李某某、张某某、李某某小额借款合同纠纷...  合同事务         3  \n",
       "449998  原告苏中公司提出诉讼请求：1.确认鼎鑫公司与张新华、陈镜签订的时代名苑某门面房的商品房买卖合...  合同事务         3  \n",
       "449999  本院在审理原告陈萍与被告刘继友、被告刘杏华合伙协议纠纷一案中，原告陈萍于2019年7月26日...  公司事务         1  \n",
       "\n",
       "[450000 rows x 6 columns]"
      ]
     },
     "execution_count": 60,
     "metadata": {},
     "output_type": "execute_result"
    }
   ],
   "source": [
    "# dev\n",
    "import copy\n",
    "df_dev = copy.deepcopy(df_res)\n",
    "df_dev['cat_1_id'] = df_dev['cat_1'].apply(lambda x:label2id[x])\n",
    "df_dev"
   ]
  },
  {
   "cell_type": "code",
   "execution_count": 61,
   "id": "3c9f0c18",
   "metadata": {
    "ExecuteTime": {
     "end_time": "2023-05-16T08:11:10.994897Z",
     "start_time": "2023-05-16T08:10:54.982147Z"
    }
   },
   "outputs": [
    {
     "name": "stderr",
     "output_type": "stream",
     "text": [
      "100%|██████████████████████████████████████████████████████████████████████████████████| 10/10 [00:14<00:00,  1.50s/it]\n",
      "100%|██████████████████████████████████████████████████████████████████████████████████| 10/10 [00:01<00:00,  9.78it/s]\n"
     ]
    }
   ],
   "source": [
    "df_dev_group = df_dev.groupby('cat_1_id')\n",
    "for k in trange(10):\n",
    "    df_tmp = df_dev_group.get_group(k)[['query', 'acc']]\n",
    "    df_tmp.columns = ['sentence1', 'sentence2']\n",
    "    df_tmp.to_csv(\"./cls_dataset/g{}/dev_pred.csv\".format(k), encoding='utf_8_sig', index=None)\n",
    "    \n",
    "for k in trange(10):\n",
    "    df_tmp = df_dev_group.get_group(k)[['q_id', 'c_id']]\n",
    "    df_tmp.columns = ['q_id', 'c_id']\n",
    "    df_tmp.to_csv(\"./cls_dataset/g{}/dev_pred_ori.csv\".format(k), encoding='utf_8_sig', index=None)"
   ]
  },
  {
   "cell_type": "markdown",
   "id": "29d6c61b",
   "metadata": {},
   "source": [
    "# train_test"
   ]
  },
  {
   "cell_type": "code",
   "execution_count": 53,
   "id": "e8fa2743",
   "metadata": {
    "ExecuteTime": {
     "end_time": "2023-05-16T08:02:49.820180Z",
     "start_time": "2023-05-16T08:02:00.569376Z"
    }
   },
   "outputs": [
    {
     "name": "stderr",
     "output_type": "stream",
     "text": [
      "100%|█████████████████████████████████████████████████████████████████████████████| 8500/8500 [00:36<00:00, 230.13it/s]\n",
      "100%|█████████████████████████████████████████████████████████████████████████████| 2181/2181 [00:12<00:00, 180.23it/s]\n"
     ]
    }
   ],
   "source": [
    "from tqdm import trange\n",
    "# train\n",
    "res_lst = []\n",
    "for filename in tqdm(TRAIN_FILES):\n",
    "    tmp_lst = []\n",
    "    with open(TRAIN_DIR+filename, 'r', encoding='utf-8') as f:\n",
    "        js_dt = json.load(f)\n",
    "        q_id = js_dt['q_id']\n",
    "        query = js_dt['query'].strip().replace('\\n', '')\n",
    "        for k in range(100):\n",
    "            c_id = k\n",
    "            acc = js_dt['ctxs'][str(k)]['JudgeAccusation'].strip().replace('\\n', '')\n",
    "            cat1 = js_dt['ctxs'][str(k)]['Category']['cat_1']\n",
    "            tmp_lst.append([q_id, c_id, query, acc, cat1])\n",
    "        res_lst.append(tmp_lst)\n",
    "        \n",
    "# test\n",
    "for filename in tqdm(TEST_FILES):\n",
    "    tmp_lst = []\n",
    "    with open(TEST_DIR+filename, 'r', encoding='utf-8') as f:\n",
    "        js_dt = json.load(f)\n",
    "        q_id = js_dt['q_id']\n",
    "        query = js_dt['query'].strip().replace('\\n', '')\n",
    "        for k in range(100):\n",
    "            c_id = k\n",
    "            acc = js_dt['ctxs'][str(k)]['JudgeAccusation'].strip().replace('\\n', '')\n",
    "            cat1 = js_dt['ctxs'][str(k)]['Category']['cat_1']\n",
    "            tmp_lst.append([q_id, c_id, query, acc, cat1])\n",
    "        res_lst.append(tmp_lst)"
   ]
  },
  {
   "cell_type": "code",
   "execution_count": 54,
   "id": "a1859556",
   "metadata": {
    "ExecuteTime": {
     "end_time": "2023-05-16T08:05:19.407094Z",
     "start_time": "2023-05-16T08:03:14.249301Z"
    }
   },
   "outputs": [
    {
     "data": {
      "text/html": [
       "<div>\n",
       "<style scoped>\n",
       "    .dataframe tbody tr th:only-of-type {\n",
       "        vertical-align: middle;\n",
       "    }\n",
       "\n",
       "    .dataframe tbody tr th {\n",
       "        vertical-align: top;\n",
       "    }\n",
       "\n",
       "    .dataframe thead th {\n",
       "        text-align: right;\n",
       "    }\n",
       "</style>\n",
       "<table border=\"1\" class=\"dataframe\">\n",
       "  <thead>\n",
       "    <tr style=\"text-align: right;\">\n",
       "      <th></th>\n",
       "      <th>q_id</th>\n",
       "      <th>c_id</th>\n",
       "      <th>query</th>\n",
       "      <th>acc</th>\n",
       "      <th>cat_1</th>\n",
       "    </tr>\n",
       "  </thead>\n",
       "  <tbody>\n",
       "    <tr>\n",
       "      <th>0</th>\n",
       "      <td>0</td>\n",
       "      <td>0</td>\n",
       "      <td>原告彭正坤诉称，2018年1月29日，原告彭正坤与三名被告及本案第三人签订了《股权转让协议书...</td>\n",
       "      <td>原告苗某的诉讼请求：1.依法解除原被告之间的婚姻关系。2.婚生的长子闫某某，次子闫某某由被告...</td>\n",
       "      <td>婚姻家庭</td>\n",
       "    </tr>\n",
       "    <tr>\n",
       "      <th>1</th>\n",
       "      <td>0</td>\n",
       "      <td>1</td>\n",
       "      <td>原告彭正坤诉称，2018年1月29日，原告彭正坤与三名被告及本案第三人签订了《股权转让协议书...</td>\n",
       "      <td>原告向本院提出诉讼请求：1.判令被告立即支付拖欠工程款4万元及利息（利息以4万元为基数，自2...</td>\n",
       "      <td>建筑工程</td>\n",
       "    </tr>\n",
       "    <tr>\n",
       "      <th>2</th>\n",
       "      <td>0</td>\n",
       "      <td>2</td>\n",
       "      <td>原告彭正坤诉称，2018年1月29日，原告彭正坤与三名被告及本案第三人签订了《股权转让协议书...</td>\n",
       "      <td>济南万福信息科技有限公司向本院提出诉讼请求：1.判令张玲娣偿还借款人民币111000元及利息...</td>\n",
       "      <td>合同事务</td>\n",
       "    </tr>\n",
       "    <tr>\n",
       "      <th>3</th>\n",
       "      <td>0</td>\n",
       "      <td>3</td>\n",
       "      <td>原告彭正坤诉称，2018年1月29日，原告彭正坤与三名被告及本案第三人签订了《股权转让协议书...</td>\n",
       "      <td>原告贵州鼎盛晟贸易有限公司起诉至本院请求判令：一、被告向原告支付所欠货款127290元；二、...</td>\n",
       "      <td>合同事务</td>\n",
       "    </tr>\n",
       "    <tr>\n",
       "      <th>4</th>\n",
       "      <td>0</td>\n",
       "      <td>4</td>\n",
       "      <td>原告彭正坤诉称，2018年1月29日，原告彭正坤与三名被告及本案第三人签订了《股权转让协议书...</td>\n",
       "      <td>原告诉称，原告与被告杨运钿2017年12月27日订立《股权代持协议》，主要约定原告自愿委托该...</td>\n",
       "      <td>公司事务</td>\n",
       "    </tr>\n",
       "    <tr>\n",
       "      <th>...</th>\n",
       "      <td>...</td>\n",
       "      <td>...</td>\n",
       "      <td>...</td>\n",
       "      <td>...</td>\n",
       "      <td>...</td>\n",
       "    </tr>\n",
       "    <tr>\n",
       "      <th>1068095</th>\n",
       "      <td>10680</td>\n",
       "      <td>95</td>\n",
       "      <td>原告黄润芝向本院提出诉讼请求：1.要求两被告给付原告土地征用款145521元；2.诉讼费用由...</td>\n",
       "      <td>原告苏宇向本院提出诉讼请求：1.要求被告人人乐公司退还货款6.66元；2.要求被告人人乐公司...</td>\n",
       "      <td>民事纠纷</td>\n",
       "    </tr>\n",
       "    <tr>\n",
       "      <th>1068096</th>\n",
       "      <td>10680</td>\n",
       "      <td>96</td>\n",
       "      <td>原告黄润芝向本院提出诉讼请求：1.要求两被告给付原告土地征用款145521元；2.诉讼费用由...</td>\n",
       "      <td>原告刘美荣向本院提出诉讼请求：请求人民法院判令被告给付原告人民币25000.00元，并承担本...</td>\n",
       "      <td>婚姻家庭</td>\n",
       "    </tr>\n",
       "    <tr>\n",
       "      <th>1068097</th>\n",
       "      <td>10680</td>\n",
       "      <td>97</td>\n",
       "      <td>原告黄润芝向本院提出诉讼请求：1.要求两被告给付原告土地征用款145521元；2.诉讼费用由...</td>\n",
       "      <td>原告诉称，原告与被告王伟树签订借款合同，金额150000元，月利率20‰，被告借款后，偿还利...</td>\n",
       "      <td>合同事务</td>\n",
       "    </tr>\n",
       "    <tr>\n",
       "      <th>1068098</th>\n",
       "      <td>10680</td>\n",
       "      <td>98</td>\n",
       "      <td>原告黄润芝向本院提出诉讼请求：1.要求两被告给付原告土地征用款145521元；2.诉讼费用由...</td>\n",
       "      <td>原告李某向本院提出诉讼请求：1.婚生子杜某某由原告抚养教育，被告每月支付抚养费4000元；2...</td>\n",
       "      <td>婚姻家庭</td>\n",
       "    </tr>\n",
       "    <tr>\n",
       "      <th>1068099</th>\n",
       "      <td>10680</td>\n",
       "      <td>99</td>\n",
       "      <td>原告黄润芝向本院提出诉讼请求：1.要求两被告给付原告土地征用款145521元；2.诉讼费用由...</td>\n",
       "      <td>原告北京泽金优诚科技有限公司株洲芦淞分公司向本院提出诉讼请求：1.判令被告向原告支付代偿款1...</td>\n",
       "      <td>合同事务</td>\n",
       "    </tr>\n",
       "  </tbody>\n",
       "</table>\n",
       "<p>1068100 rows × 5 columns</p>\n",
       "</div>"
      ],
      "text/plain": [
       "          q_id c_id                                              query  \\\n",
       "0            0    0  原告彭正坤诉称，2018年1月29日，原告彭正坤与三名被告及本案第三人签订了《股权转让协议书...   \n",
       "1            0    1  原告彭正坤诉称，2018年1月29日，原告彭正坤与三名被告及本案第三人签订了《股权转让协议书...   \n",
       "2            0    2  原告彭正坤诉称，2018年1月29日，原告彭正坤与三名被告及本案第三人签订了《股权转让协议书...   \n",
       "3            0    3  原告彭正坤诉称，2018年1月29日，原告彭正坤与三名被告及本案第三人签订了《股权转让协议书...   \n",
       "4            0    4  原告彭正坤诉称，2018年1月29日，原告彭正坤与三名被告及本案第三人签订了《股权转让协议书...   \n",
       "...        ...  ...                                                ...   \n",
       "1068095  10680   95  原告黄润芝向本院提出诉讼请求：1.要求两被告给付原告土地征用款145521元；2.诉讼费用由...   \n",
       "1068096  10680   96  原告黄润芝向本院提出诉讼请求：1.要求两被告给付原告土地征用款145521元；2.诉讼费用由...   \n",
       "1068097  10680   97  原告黄润芝向本院提出诉讼请求：1.要求两被告给付原告土地征用款145521元；2.诉讼费用由...   \n",
       "1068098  10680   98  原告黄润芝向本院提出诉讼请求：1.要求两被告给付原告土地征用款145521元；2.诉讼费用由...   \n",
       "1068099  10680   99  原告黄润芝向本院提出诉讼请求：1.要求两被告给付原告土地征用款145521元；2.诉讼费用由...   \n",
       "\n",
       "                                                       acc cat_1  \n",
       "0        原告苗某的诉讼请求：1.依法解除原被告之间的婚姻关系。2.婚生的长子闫某某，次子闫某某由被告...  婚姻家庭  \n",
       "1        原告向本院提出诉讼请求：1.判令被告立即支付拖欠工程款4万元及利息（利息以4万元为基数，自2...  建筑工程  \n",
       "2        济南万福信息科技有限公司向本院提出诉讼请求：1.判令张玲娣偿还借款人民币111000元及利息...  合同事务  \n",
       "3        原告贵州鼎盛晟贸易有限公司起诉至本院请求判令：一、被告向原告支付所欠货款127290元；二、...  合同事务  \n",
       "4        原告诉称，原告与被告杨运钿2017年12月27日订立《股权代持协议》，主要约定原告自愿委托该...  公司事务  \n",
       "...                                                    ...   ...  \n",
       "1068095  原告苏宇向本院提出诉讼请求：1.要求被告人人乐公司退还货款6.66元；2.要求被告人人乐公司...  民事纠纷  \n",
       "1068096  原告刘美荣向本院提出诉讼请求：请求人民法院判令被告给付原告人民币25000.00元，并承担本...  婚姻家庭  \n",
       "1068097  原告诉称，原告与被告王伟树签订借款合同，金额150000元，月利率20‰，被告借款后，偿还利...  合同事务  \n",
       "1068098  原告李某向本院提出诉讼请求：1.婚生子杜某某由原告抚养教育，被告每月支付抚养费4000元；2...  婚姻家庭  \n",
       "1068099  原告北京泽金优诚科技有限公司株洲芦淞分公司向本院提出诉讼请求：1.判令被告向原告支付代偿款1...  合同事务  \n",
       "\n",
       "[1068100 rows x 5 columns]"
      ]
     },
     "execution_count": 54,
     "metadata": {},
     "output_type": "execute_result"
    }
   ],
   "source": [
    "df_res = pd.DataFrame(np.array(res_lst).reshape(-1, 5), columns = ['q_id', 'c_id', 'query', 'acc', 'cat_1'])\n",
    "df_res"
   ]
  },
  {
   "cell_type": "code",
   "execution_count": 57,
   "id": "2ffdc371",
   "metadata": {
    "ExecuteTime": {
     "end_time": "2023-05-16T08:09:18.258331Z",
     "start_time": "2023-05-16T08:08:45.327232Z"
    }
   },
   "outputs": [
    {
     "name": "stderr",
     "output_type": "stream",
     "text": [
      "100%|██████████████████████████████████████████████████████████████████████████████████| 10/10 [00:30<00:00,  3.05s/it]\n",
      "100%|██████████████████████████████████████████████████████████████████████████████████| 10/10 [00:01<00:00,  5.26it/s]\n"
     ]
    }
   ],
   "source": [
    "df_train = copy.deepcopy(df_res)\n",
    "df_train['cat_1_id'] = df_train['cat_1'].apply(lambda x:label2id[x])\n",
    "df_train_group = df_train.groupby('cat_1_id')\n",
    "for k in trange(10):\n",
    "    df_tmp = df_train_group.get_group(k)[['query', 'acc']]\n",
    "    df_tmp.columns = ['sentence1', 'sentence2']\n",
    "    df_tmp.to_csv(\"./cls_dataset/g{}/train_test_pred.csv\".format(k), encoding='utf_8_sig', index=None)\n",
    "\n",
    "for k in trange(10):\n",
    "    df_tmp = df_train_group.get_group(k)[['q_id', 'c_id']]\n",
    "    df_tmp.columns = ['q_id', 'c_id']\n",
    "    df_tmp.to_csv(\"./cls_dataset/g{}/train_test_pred_ori.csv\".format(k), encoding='utf_8_sig', index=None)"
   ]
  },
  {
   "cell_type": "code",
   "execution_count": null,
   "id": "51f655d2",
   "metadata": {},
   "outputs": [],
   "source": []
  }
 ],
 "metadata": {
  "kernelspec": {
   "display_name": "Python 3 (ipykernel)",
   "language": "python",
   "name": "python3"
  },
  "language_info": {
   "codemirror_mode": {
    "name": "ipython",
    "version": 3
   },
   "file_extension": ".py",
   "mimetype": "text/x-python",
   "name": "python",
   "nbconvert_exporter": "python",
   "pygments_lexer": "ipython3",
   "version": "3.9.7"
  },
  "toc": {
   "base_numbering": 1,
   "nav_menu": {},
   "number_sections": true,
   "sideBar": true,
   "skip_h1_title": false,
   "title_cell": "Table of Contents",
   "title_sidebar": "Contents",
   "toc_cell": false,
   "toc_position": {},
   "toc_section_display": true,
   "toc_window_display": false
  },
  "varInspector": {
   "cols": {
    "lenName": 16,
    "lenType": 16,
    "lenVar": 40
   },
   "kernels_config": {
    "python": {
     "delete_cmd_postfix": "",
     "delete_cmd_prefix": "del ",
     "library": "var_list.py",
     "varRefreshCmd": "print(var_dic_list())"
    },
    "r": {
     "delete_cmd_postfix": ") ",
     "delete_cmd_prefix": "rm(",
     "library": "var_list.r",
     "varRefreshCmd": "cat(var_dic_list()) "
    }
   },
   "types_to_exclude": [
    "module",
    "function",
    "builtin_function_or_method",
    "instance",
    "_Feature"
   ],
   "window_display": false
  }
 },
 "nbformat": 4,
 "nbformat_minor": 5
}
