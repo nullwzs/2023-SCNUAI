{
 "cells": [
  {
   "cell_type": "code",
   "execution_count": 1,
   "id": "f8294fa5",
   "metadata": {
    "ExecuteTime": {
     "end_time": "2023-05-21T09:35:51.964957Z",
     "start_time": "2023-05-21T09:35:51.245284Z"
    }
   },
   "outputs": [],
   "source": [
    "import pandas as pd\n",
    "import numpy as np\n",
    "import os\n",
    "import json"
   ]
  },
  {
   "cell_type": "code",
   "execution_count": 2,
   "id": "33223dc1",
   "metadata": {
    "ExecuteTime": {
     "end_time": "2023-05-21T09:35:52.447525Z",
     "start_time": "2023-05-21T09:35:52.431922Z"
    }
   },
   "outputs": [],
   "source": [
    "# config\n",
    "TOTAL_DIR = './cls_dataset/total/'\n",
    "TRAIN_DIR = './cls_dataset/train/'\n",
    "TEST_DIR = './cls_dataset/test/'\n",
    "RESULT_DIR = './result/'\n",
    "DATA_DIR = './cls_dataset/'\n",
    "\n",
    "TOTAL_FILES = os.listdir(TOTAL_DIR)\n",
    "CLASSES = np.unique([x.split(' ')[0] for x in TOTAL_FILES])"
   ]
  },
  {
   "cell_type": "code",
   "execution_count": 3,
   "id": "8d9efdc0",
   "metadata": {
    "ExecuteTime": {
     "end_time": "2023-05-21T09:35:53.538700Z",
     "start_time": "2023-05-21T09:35:53.523939Z"
    }
   },
   "outputs": [
    {
     "data": {
      "text/plain": [
       "{0: '交通事故',\n",
       " 1: '公司事务',\n",
       " 2: '劳动人事',\n",
       " 3: '合同事务',\n",
       " 4: '婚姻家庭',\n",
       " 5: '建筑工程',\n",
       " 6: '房地产纠纷',\n",
       " 7: '民事纠纷',\n",
       " 8: '知识产权',\n",
       " 9: '金融证券保险'}"
      ]
     },
     "execution_count": 3,
     "metadata": {},
     "output_type": "execute_result"
    }
   ],
   "source": [
    "dict(enumerate(CLASSES))"
   ]
  },
  {
   "cell_type": "code",
   "execution_count": 4,
   "id": "3bd8961f",
   "metadata": {
    "ExecuteTime": {
     "end_time": "2023-05-21T09:36:04.444432Z",
     "start_time": "2023-05-21T09:36:02.530884Z"
    }
   },
   "outputs": [
    {
     "data": {
      "text/plain": [
       "10"
      ]
     },
     "execution_count": 4,
     "metadata": {},
     "output_type": "execute_result"
    }
   ],
   "source": [
    "merge_dt = []\n",
    "for k in range(len(CLASSES)):\n",
    "    tmp_lst = []\n",
    "    for filename in TOTAL_FILES:\n",
    "        if filename.split(' ')[0] == CLASSES[k]:\n",
    "            with open(TOTAL_DIR+filename, 'r', encoding='utf-8') as file:\n",
    "                for line in file.readlines():\n",
    "                    tmp_lst.append(line.strip())\n",
    "    merge_dt.append(tmp_lst)\n",
    "len(merge_dt)"
   ]
  },
  {
   "cell_type": "code",
   "execution_count": 5,
   "id": "d787f71a",
   "metadata": {
    "ExecuteTime": {
     "end_time": "2023-05-21T09:36:10.706484Z",
     "start_time": "2023-05-21T09:36:10.256836Z"
    }
   },
   "outputs": [
    {
     "data": {
      "text/plain": [
       "10"
      ]
     },
     "execution_count": 5,
     "metadata": {},
     "output_type": "execute_result"
    }
   ],
   "source": [
    "data = []\n",
    "for k in range(len(CLASSES)):\n",
    "    tmp_lst = []\n",
    "    for dt in merge_dt[k]:\n",
    "        tmp_lst.append(dt.split('\\t'))\n",
    "    data.append(tmp_lst)\n",
    "len(data)"
   ]
  },
  {
   "cell_type": "code",
   "execution_count": 6,
   "id": "9193f431",
   "metadata": {
    "ExecuteTime": {
     "end_time": "2023-05-21T09:36:15.268916Z",
     "start_time": "2023-05-21T09:36:15.161227Z"
    }
   },
   "outputs": [
    {
     "data": {
      "text/html": [
       "<div>\n",
       "<style scoped>\n",
       "    .dataframe tbody tr th:only-of-type {\n",
       "        vertical-align: middle;\n",
       "    }\n",
       "\n",
       "    .dataframe tbody tr th {\n",
       "        vertical-align: top;\n",
       "    }\n",
       "\n",
       "    .dataframe thead th {\n",
       "        text-align: right;\n",
       "    }\n",
       "</style>\n",
       "<table border=\"1\" class=\"dataframe\">\n",
       "  <thead>\n",
       "    <tr style=\"text-align: right;\">\n",
       "      <th></th>\n",
       "      <th>sentence1</th>\n",
       "      <th>sentence2</th>\n",
       "      <th>label</th>\n",
       "    </tr>\n",
       "  </thead>\n",
       "  <tbody>\n",
       "    <tr>\n",
       "      <th>0</th>\n",
       "      <td>诉至本院，要求被告赔偿原告损失25000元并承担案件受理费。并申请本院采取保全措施，裁定扣押...</td>\n",
       "      <td>诉至本院，要求被告赔偿原告损失30000元并承担案件受理费。并申请本院采取保全措施，裁定扣押...</td>\n",
       "      <td>1</td>\n",
       "    </tr>\n",
       "    <tr>\n",
       "      <th>1</th>\n",
       "      <td>诉至本院，要求被告赔偿原告损失25000元并承担案件受理费。并申请本院采取保全措施，裁定扣押...</td>\n",
       "      <td>诉至本院，要求被告赔偿原告损失2万元并承担案件受理费。并申请本院采取保全措施，裁定扣押被告李...</td>\n",
       "      <td>1</td>\n",
       "    </tr>\n",
       "    <tr>\n",
       "      <th>2</th>\n",
       "      <td>诉至本院，要求被告赔偿原告损失25000元并承担案件受理费。并申请本院采取保全措施，裁定扣押...</td>\n",
       "      <td>诉至本院，要求被告赔偿原告损失30000元并承担案件受理费。并申请本院采取保全措施，裁定扣押...</td>\n",
       "      <td>1</td>\n",
       "    </tr>\n",
       "    <tr>\n",
       "      <th>3</th>\n",
       "      <td>诉至本院，要求被告赔偿原告损失25000元并承担案件受理费。并申请本院采取保全措施，裁定扣押...</td>\n",
       "      <td>诉至本院，要求被告赔偿原告损失50000元并承担案件受理费。并申请本院采取保全措施，裁定扣押...</td>\n",
       "      <td>1</td>\n",
       "    </tr>\n",
       "    <tr>\n",
       "      <th>4</th>\n",
       "      <td>诉至本院，要求被告赔偿原告损失25000元并承担案件受理费。并申请本院采取保全措施，裁定扣押...</td>\n",
       "      <td>诉至本院，要求被告赔偿原告损失30000元并承担案件受理费。并申请本院采取保全措施，裁定扣押...</td>\n",
       "      <td>1</td>\n",
       "    </tr>\n",
       "    <tr>\n",
       "      <th>...</th>\n",
       "      <td>...</td>\n",
       "      <td>...</td>\n",
       "      <td>...</td>\n",
       "    </tr>\n",
       "    <tr>\n",
       "      <th>1053</th>\n",
       "      <td>原告李谦功向本院提出诉讼请求：判令被告向原告支付车辆维修费用27270元及车辆维修中产生的误...</td>\n",
       "      <td>原告向本院提出诉讼请求：1.要求被告赔偿原告因交通事故造成宋某某死亡的损失合计384369....</td>\n",
       "      <td>1</td>\n",
       "    </tr>\n",
       "    <tr>\n",
       "      <th>1054</th>\n",
       "      <td>原告李谦功向本院提出诉讼请求：判令被告向原告支付车辆维修费用27270元及车辆维修中产生的误...</td>\n",
       "      <td>原告张孝碧向本院提出诉讼请求：1.邓沙、中国人寿财产保险股份有限公司重庆分公司赔偿因交通事故...</td>\n",
       "      <td>1</td>\n",
       "    </tr>\n",
       "    <tr>\n",
       "      <th>1055</th>\n",
       "      <td>原告李谦功向本院提出诉讼请求：判令被告向原告支付车辆维修费用27270元及车辆维修中产生的误...</td>\n",
       "      <td>原告安某某、安某某、安某某、寇某某、许某某向本院提出诉讼请求：1.请求依法判令三被告赔偿五原...</td>\n",
       "      <td>1</td>\n",
       "    </tr>\n",
       "    <tr>\n",
       "      <th>1056</th>\n",
       "      <td>原告李谦功向本院提出诉讼请求：判令被告向原告支付车辆维修费用27270元及车辆维修中产生的误...</td>\n",
       "      <td>郭晓焕的诉讼请求：判令四被告共同赔偿原告车辆及车牌损失73万元；诉讼费由被告负担。事实与理由...</td>\n",
       "      <td>1</td>\n",
       "    </tr>\n",
       "    <tr>\n",
       "      <th>1057</th>\n",
       "      <td>原告李谦功向本院提出诉讼请求：判令被告向原告支付车辆维修费用27270元及车辆维修中产生的误...</td>\n",
       "      <td>原告齐河县北控环境服务有限公司向本院提出诉讼请求：一、依法判令四被告赔偿原告为伤者张明秋垫付...</td>\n",
       "      <td>1</td>\n",
       "    </tr>\n",
       "  </tbody>\n",
       "</table>\n",
       "<p>1058 rows × 3 columns</p>\n",
       "</div>"
      ],
      "text/plain": [
       "                                              sentence1  \\\n",
       "0     诉至本院，要求被告赔偿原告损失25000元并承担案件受理费。并申请本院采取保全措施，裁定扣押...   \n",
       "1     诉至本院，要求被告赔偿原告损失25000元并承担案件受理费。并申请本院采取保全措施，裁定扣押...   \n",
       "2     诉至本院，要求被告赔偿原告损失25000元并承担案件受理费。并申请本院采取保全措施，裁定扣押...   \n",
       "3     诉至本院，要求被告赔偿原告损失25000元并承担案件受理费。并申请本院采取保全措施，裁定扣押...   \n",
       "4     诉至本院，要求被告赔偿原告损失25000元并承担案件受理费。并申请本院采取保全措施，裁定扣押...   \n",
       "...                                                 ...   \n",
       "1053  原告李谦功向本院提出诉讼请求：判令被告向原告支付车辆维修费用27270元及车辆维修中产生的误...   \n",
       "1054  原告李谦功向本院提出诉讼请求：判令被告向原告支付车辆维修费用27270元及车辆维修中产生的误...   \n",
       "1055  原告李谦功向本院提出诉讼请求：判令被告向原告支付车辆维修费用27270元及车辆维修中产生的误...   \n",
       "1056  原告李谦功向本院提出诉讼请求：判令被告向原告支付车辆维修费用27270元及车辆维修中产生的误...   \n",
       "1057  原告李谦功向本院提出诉讼请求：判令被告向原告支付车辆维修费用27270元及车辆维修中产生的误...   \n",
       "\n",
       "                                              sentence2 label  \n",
       "0     诉至本院，要求被告赔偿原告损失30000元并承担案件受理费。并申请本院采取保全措施，裁定扣押...     1  \n",
       "1     诉至本院，要求被告赔偿原告损失2万元并承担案件受理费。并申请本院采取保全措施，裁定扣押被告李...     1  \n",
       "2     诉至本院，要求被告赔偿原告损失30000元并承担案件受理费。并申请本院采取保全措施，裁定扣押...     1  \n",
       "3     诉至本院，要求被告赔偿原告损失50000元并承担案件受理费。并申请本院采取保全措施，裁定扣押...     1  \n",
       "4     诉至本院，要求被告赔偿原告损失30000元并承担案件受理费。并申请本院采取保全措施，裁定扣押...     1  \n",
       "...                                                 ...   ...  \n",
       "1053  原告向本院提出诉讼请求：1.要求被告赔偿原告因交通事故造成宋某某死亡的损失合计384369....     1  \n",
       "1054  原告张孝碧向本院提出诉讼请求：1.邓沙、中国人寿财产保险股份有限公司重庆分公司赔偿因交通事故...     1  \n",
       "1055  原告安某某、安某某、安某某、寇某某、许某某向本院提出诉讼请求：1.请求依法判令三被告赔偿五原...     1  \n",
       "1056  郭晓焕的诉讼请求：判令四被告共同赔偿原告车辆及车牌损失73万元；诉讼费由被告负担。事实与理由...     1  \n",
       "1057  原告齐河县北控环境服务有限公司向本院提出诉讼请求：一、依法判令四被告赔偿原告为伤者张明秋垫付...     1  \n",
       "\n",
       "[1058 rows x 3 columns]"
      ]
     },
     "execution_count": 6,
     "metadata": {},
     "output_type": "execute_result"
    }
   ],
   "source": [
    "df = [pd.DataFrame(data[k], columns=['sentence1', 'sentence2', 'label']) for k in range(len(CLASSES))]\n",
    "df[0]"
   ]
  },
  {
   "cell_type": "code",
   "execution_count": 7,
   "id": "12f0f095",
   "metadata": {
    "ExecuteTime": {
     "end_time": "2023-05-21T09:36:31.282319Z",
     "start_time": "2023-05-21T09:36:30.191911Z"
    }
   },
   "outputs": [
    {
     "data": {
      "text/plain": [
       "10"
      ]
     },
     "execution_count": 7,
     "metadata": {},
     "output_type": "execute_result"
    }
   ],
   "source": [
    "from sklearn.model_selection import train_test_split\n",
    "train_data = []\n",
    "test_data = []\n",
    "for k in range(len(CLASSES)):\n",
    "    label = df[k]['label']\n",
    "    train_data_tmp, test_data_tmp = train_test_split(df[k], test_size=0.4, stratify=label)\n",
    "    train_data.append(train_data_tmp)\n",
    "    test_data.append(test_data_tmp)\n",
    "len(train_data)"
   ]
  },
  {
   "cell_type": "code",
   "execution_count": 28,
   "id": "5af92eed",
   "metadata": {
    "ExecuteTime": {
     "end_time": "2023-05-15T18:06:27.212366Z",
     "start_time": "2023-05-15T18:06:23.193837Z"
    }
   },
   "outputs": [],
   "source": [
    "for k in range(len(CLASSES)):\n",
    "    if not os.path.exists(DATA_DIR+'g{}/'.format(k)):\n",
    "        os.mkdir(DATA_DIR+'g{}/'.format(k))\n",
    "    train_data[k].to_csv(DATA_DIR+'g{}/'.format(k)+'train.csv', encoding='utf_8_sig', index=None)\n",
    "    test_data[k].to_csv(DATA_DIR+'g{}/'.format(k)+'test.csv', encoding='utf_8_sig', index=None)    "
   ]
  },
  {
   "cell_type": "code",
   "execution_count": 34,
   "id": "318f91c5",
   "metadata": {
    "ExecuteTime": {
     "end_time": "2023-05-15T18:08:12.782272Z",
     "start_time": "2023-05-15T18:08:12.769306Z"
    }
   },
   "outputs": [
    {
     "name": "stdout",
     "output_type": "stream",
     "text": [
      "交通事故 : 634,424\n",
      "公司事务 : 2317,1545\n",
      "劳动人事 : 4087,2725\n",
      "合同事务 : 46554,31037\n",
      "婚姻家庭 : 9384,6256\n",
      "建筑工程 : 5172,3449\n",
      "房地产纠纷 : 9036,6024\n",
      "民事纠纷 : 10984,7324\n",
      "知识产权 : 932,622\n",
      "金融证券保险 : 4411,2942\n"
     ]
    }
   ],
   "source": [
    "for k in range(len(CLASSES)):\n",
    "    print(CLASSES[k], \" : \", train_data[k].shape[0], ',', test_data[k].shape[0], sep='')"
   ]
  },
  {
   "cell_type": "code",
   "execution_count": 40,
   "id": "301ec9a8",
   "metadata": {
    "ExecuteTime": {
     "end_time": "2023-05-15T18:40:29.945119Z",
     "start_time": "2023-05-15T18:40:29.905118Z"
    }
   },
   "outputs": [
    {
     "name": "stdout",
     "output_type": "stream",
     "text": [
      "交通事故 : 1058 1058 0\n",
      "公司事务 : 3862 3862 0\n",
      "劳动人事 : 6812 6552 260\n",
      "合同事务 : 77591 56272 21319\n",
      "婚姻家庭 : 15640 13785 1855\n",
      "建筑工程 : 8621 5954 2667\n",
      "房地产纠纷 : 15060 13254 1806\n",
      "民事纠纷 : 18308 13941 4367\n",
      "知识产权 : 1554 1434 120\n",
      "金融证券保险 : 7353 5569 1784\n"
     ]
    }
   ],
   "source": [
    "for k in range(len(CLASSES)):\n",
    "    print(CLASSES[k],\":\",df[k].shape[0], np.sum(df[k]['label'] == '1'), np.sum(df[k]['label'] == '0'))"
   ]
  },
  {
   "cell_type": "code",
   "execution_count": 43,
   "id": "2f52aaa5",
   "metadata": {
    "ExecuteTime": {
     "end_time": "2023-05-15T19:31:20.015223Z",
     "start_time": "2023-05-15T19:31:19.963957Z"
    }
   },
   "outputs": [
    {
     "name": "stdout",
     "output_type": "stream",
     "text": [
      "交通事故 (train): 634 634 0 \t 交通事故 (test): 424 424 0\n",
      "公司事务 (train): 2317 2317 0 \t 公司事务 (test): 1545 1545 0\n",
      "劳动人事 (train): 4087 3931 156 \t 劳动人事 (test): 2725 2621 104\n",
      "合同事务 (train): 46554 33763 12791 \t 合同事务 (test): 31037 22509 8528\n",
      "婚姻家庭 (train): 9384 8271 1113 \t 婚姻家庭 (test): 6256 5514 742\n",
      "建筑工程 (train): 5172 3572 1600 \t 建筑工程 (test): 3449 2382 1067\n",
      "房地产纠纷 (train): 9036 7952 1084 \t 房地产纠纷 (test): 6024 5302 722\n",
      "民事纠纷 (train): 10984 8364 2620 \t 民事纠纷 (test): 7324 5577 1747\n",
      "知识产权 (train): 932 860 72 \t 知识产权 (test): 622 574 48\n",
      "金融证券保险 (train): 4411 3341 1070 \t 金融证券保险 (test): 2942 2228 714\n"
     ]
    }
   ],
   "source": [
    "for k in range(len(CLASSES)):\n",
    "    print(CLASSES[k],\"(train):\",train_data[k].shape[0], np.sum(train_data[k]['label'] == '1'), np.sum(train_data[k]['label'] == '0'),\n",
    "         '\\t',CLASSES[k],\"(test):\",test_data[k].shape[0], np.sum(test_data[k]['label'] == '1'), np.sum(test_data[k]['label'] == '0'))"
   ]
  },
  {
   "cell_type": "code",
   "execution_count": null,
   "id": "58daceb9",
   "metadata": {},
   "outputs": [],
   "source": []
  }
 ],
 "metadata": {
  "kernelspec": {
   "display_name": "Python 3 (ipykernel)",
   "language": "python",
   "name": "python3"
  },
  "language_info": {
   "codemirror_mode": {
    "name": "ipython",
    "version": 3
   },
   "file_extension": ".py",
   "mimetype": "text/x-python",
   "name": "python",
   "nbconvert_exporter": "python",
   "pygments_lexer": "ipython3",
   "version": "3.9.7"
  },
  "toc": {
   "base_numbering": 1,
   "nav_menu": {},
   "number_sections": true,
   "sideBar": true,
   "skip_h1_title": false,
   "title_cell": "Table of Contents",
   "title_sidebar": "Contents",
   "toc_cell": false,
   "toc_position": {},
   "toc_section_display": true,
   "toc_window_display": false
  },
  "varInspector": {
   "cols": {
    "lenName": 16,
    "lenType": 16,
    "lenVar": 40
   },
   "kernels_config": {
    "python": {
     "delete_cmd_postfix": "",
     "delete_cmd_prefix": "del ",
     "library": "var_list.py",
     "varRefreshCmd": "print(var_dic_list())"
    },
    "r": {
     "delete_cmd_postfix": ") ",
     "delete_cmd_prefix": "rm(",
     "library": "var_list.r",
     "varRefreshCmd": "cat(var_dic_list()) "
    }
   },
   "types_to_exclude": [
    "module",
    "function",
    "builtin_function_or_method",
    "instance",
    "_Feature"
   ],
   "window_display": false
  }
 },
 "nbformat": 4,
 "nbformat_minor": 5
}
